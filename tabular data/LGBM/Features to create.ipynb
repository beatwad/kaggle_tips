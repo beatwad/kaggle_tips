{
 "cells": [
  {
   "cell_type": "markdown",
   "id": "987ad3b0",
   "metadata": {},
   "source": [
    "# Features preprocessing\n",
    "\n",
    "- clean features\n",
    "- cap length of too long text features\n",
    "- use unidecode for non-english text\n",
    "- cap number of unique categories - some rare categories should be set as \"RARE\" or something like that"
   ]
  },
  {
   "cell_type": "markdown",
   "id": "95aa1a67",
   "metadata": {},
   "source": [
    "# What features may be created for LGBM or another boosting model?\n",
    "\n",
    "- count frequency and percentiles of categorical features\n",
    "- group by features (min, max, mean, median, mode, std)\n",
    "- difference, distance between features\n",
    "- sum, subtraction, product, division for different features\n",
    "- RoBERTa (or other transformer) text similarity\n",
    "- TF-IDF text similarity\n",
    "- target encoding by feature alone or by feature pairs or triplets\n"
   ]
  }
 ],
 "metadata": {
  "kernelspec": {
   "display_name": "Python 3 (ipykernel)",
   "language": "python",
   "name": "python3"
  },
  "language_info": {
   "codemirror_mode": {
    "name": "ipython",
    "version": 3
   },
   "file_extension": ".py",
   "mimetype": "text/x-python",
   "name": "python",
   "nbconvert_exporter": "python",
   "pygments_lexer": "ipython3",
   "version": "3.9.12"
  }
 },
 "nbformat": 4,
 "nbformat_minor": 5
}
