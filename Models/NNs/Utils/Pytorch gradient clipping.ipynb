{
 "cells": [
  {
   "cell_type": "code",
   "execution_count": null,
   "id": "44260a70",
   "metadata": {},
   "outputs": [],
   "source": [
    "# Pytorch implementation\n",
    "optimizer.zero_grad()\n",
    "loss, hidden = model(data, hidden, targets)\n",
    "loss.backward()\n",
    "# gradient clipping should be placed after that\n",
    "torch.nn.utils.clip_grad_norm(model.parameters(),max_norm)\n",
    "# and before that\n",
    "optimizer.step()"
   ]
  }
 ],
 "metadata": {
  "kernelspec": {
   "display_name": "Python 3 (ipykernel)",
   "language": "python",
   "name": "python3"
  },
  "language_info": {
   "codemirror_mode": {
    "name": "ipython",
    "version": 3
   },
   "file_extension": ".py",
   "mimetype": "text/x-python",
   "name": "python",
   "nbconvert_exporter": "python",
   "pygments_lexer": "ipython3",
   "version": "3.9.7"
  }
 },
 "nbformat": 4,
 "nbformat_minor": 5
}
