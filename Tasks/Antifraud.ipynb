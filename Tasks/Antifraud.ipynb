{
 "cells": [
  {
   "cell_type": "markdown",
   "metadata": {},
   "source": [
    "# List of anti-fraud articles\n",
    "\n",
    "- [Cloudflare Bot Management: machine learning and more](https://blog.cloudflare.com/cloudflare-bot-management-machine-learning-and-more)\n",
    "- [Detecting and preventing abuse on LinkedIn using isolation forests](https://engineering.linkedin.com/blog/2019/isolation-forest)\n",
    "- [Card Fraud Detection Using Sparse Autoencoder and Generative Adversarial Network](https://www.researchgate.net/publication/330475914_Credit_Card_Fraud_Detection_Using_Sparse_Autoencoder_and_Generative_Adversarial_Network)\n",
    "- [Бейзлайн антифрода с помощью авто-энкодера](https://t.me/cryptovalerii/266)\n",
    "- [How to build a serverless real-time credit card fraud detection solution](https://cloud.google.com/blog/products/data-analytics/how-to-build-a-fraud-detection-solution)\n",
    "- [Anti-Fraud Metrics](https://www.adsbridge.com/guide/anti-fraud-metrics)\n",
    "- [Anti-Fraud Performance Metrics](https://fraud-detection-handbook.github.io/fraud-detection-handbook/Chapter_4_PerformanceMetrics/Introduction.html)\n",
    "- [Mobile content fraud: How to recognize and fight it in mVAS and DCB](https://blog.gg.agency/market-analytics/mvas-fraud)\n",
    "- [Why precision is a dangerous metric?](https://medium.com/@valeriybabushkin/why-precision-is-a-dangerous-metric-32868304834e)\n",
    "- [Facebook is now using AI to sort content for quicker moderation](https://www.theverge.com/2020/11/13/21562596/facebook-ai-moderation)\n",
    "- [Benefits of Using ML to Monitor Low-Risk Customers](https://www.youtube.com/watch?v=MExokMM_Bp4&t=3s)\n",
    "- [The Relationship Between Precision-Recall and ROC Curves](https://www.researchgate.net/publication/215721831_The_Relationship_Between_Precision-Recall_and_ROC_Curves)"
   ]
  }
 ],
 "metadata": {
  "language_info": {
   "name": "python"
  }
 },
 "nbformat": 4,
 "nbformat_minor": 2
}
