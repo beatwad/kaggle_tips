{
 "cells": [
  {
   "cell_type": "markdown",
   "metadata": {},
   "source": [
    "# LLM prompt hub\n",
    "\n",
    "https://smith.langchain.com/hub"
   ]
  },
  {
   "cell_type": "markdown",
   "metadata": {},
   "source": [
    "# 5 levels of text splitting\n",
    "\n",
    "Video\n",
    "\n",
    "https://www.youtube.com/watch?v=8OJC21T2SL4&t=1962s\n",
    "\n",
    "Notebook\n",
    "\n",
    "https://github.com/FullStackRetrieval-com/RetrievalTutorials/blob/main/tutorials/LevelsOfTextSplitting/5_Levels_Of_Text_Splitting.ipynb"
   ]
  }
 ],
 "metadata": {
  "language_info": {
   "name": "python"
  }
 },
 "nbformat": 4,
 "nbformat_minor": 2
}
