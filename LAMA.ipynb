{
 "cells": [
  {
   "cell_type": "markdown",
   "id": "b42265f0",
   "metadata": {},
   "source": [
    "# Example of parameters\n",
    "\n",
    "https://github.com/sberbank-ai-lab/LightAutoML/blob/master/lightautoml/automl/presets/tabular_config.yml"
   ]
  },
  {
   "cell_type": "markdown",
   "id": "110b80a0",
   "metadata": {},
   "source": [
    "# TabularAutoML init for regression task\n",
    "\n",
    "Import libraries"
   ]
  },
  {
   "cell_type": "code",
   "execution_count": null,
   "id": "af4373f2",
   "metadata": {},
   "outputs": [],
   "source": [
    "import os\n",
    "import logging\n",
    "\n",
    "import pandas as pd\n",
    "\n",
    "from lightautoml.automl.presets.tabular_presets import TabularAutoML, TabularUtilizedAutoML\n",
    "from lightautoml.tasks import Task\n",
    "import multiprocessing as mp\n",
    "\n",
    "from sklearn.metrics import mean_squared_error\n",
    "from sklearn.model_selection import train_test_split"
   ]
  },
  {
   "cell_type": "markdown",
   "id": "1acf31ef",
   "metadata": {},
   "source": [
    "Prepare dataset"
   ]
  },
  {
   "cell_type": "code",
   "execution_count": null,
   "id": "1ad6add6",
   "metadata": {},
   "outputs": [],
   "source": [
    "matrix = pd.read_pickle(\"checkpoint_final.pkl\")\n",
    "\n",
    "# Downcast the float columns to reduce RAM usage\n",
    "floatcols = [c for c in matrix.columns if matrix[c].dtype==\"float32\"]\n",
    "matrix[floatcols] = matrix[floatcols].astype(\"float16\")\n",
    "matrix['item_cnt_month'] = matrix['item_cnt_month'].clip(0,20)\n",
    "\n",
    "keep_from_month = 12  # The first couple of months are dropped because of distortions to their features (e.g. wrong item age)\n",
    "test_month = 33\n",
    "dropcols = [\n",
    "    \"shop_id\",\n",
    "    \"item_id\",\n",
    "    \"new_item\",\n",
    "]  # The features are dropped to reduce overfitting\n",
    "\n",
    "train = matrix.drop(columns=dropcols).loc[matrix.date_block_num < test_month, :]\n",
    "train = train[train.date_block_num >= keep_from_month]\n",
    "valid = matrix.drop(columns=dropcols).loc[matrix.date_block_num == test_month, :]\n",
    "\n",
    "del matrix"
   ]
  },
  {
   "cell_type": "markdown",
   "id": "662b2f70",
   "metadata": {},
   "source": [
    "Set params"
   ]
  },
  {
   "cell_type": "code",
   "execution_count": null,
   "id": "74b6c50c",
   "metadata": {},
   "outputs": [],
   "source": [
    "N_THREADS = mp.cpu_count()\n",
    "RANDOM_STATE = 42\n",
    "N_FOLDS = 5\n",
    "TIMEOUT = 2*3600\n",
    "TARGET_NAME = 'item_cnt_month'\n",
    "\n",
    "\n",
    "task = Task('reg', loss='mse', metric='mse')\n",
    "roles = {\n",
    "    'target': TARGET_NAME\n",
    "}"
   ]
  },
  {
   "cell_type": "markdown",
   "id": "18ca16bb",
   "metadata": {},
   "source": [
    "Init TabularAutoML instance"
   ]
  },
  {
   "cell_type": "code",
   "execution_count": null,
   "id": "e21ad22c",
   "metadata": {},
   "outputs": [],
   "source": [
    "automl = TabularAutoML(task=task,\n",
    "                       timeout=TIMEOUT,\n",
    "                       memory_limit=30,\n",
    "                       cpu_limit=N_THREADS,\n",
    "                       general_params={'use_algos':\n",
    "                                          [['linear_l2', 'lgb_tuned', 'cb_tuned'],\n",
    "                                           ['lgb_tuned']\n",
    "                                           ]},\n",
    "                       reader_params={'cv': N_FOLDS,\n",
    "                                      'random_state': RANDOM_STATE,\n",
    "                                      'n_jobs': N_THREADS},\n",
    "                       timing_params = {'mode': 0}\n",
    "                          ) \n",
    "\n",
    "\n",
    "oof_pred = automl.fit_predict(train, roles=roles)"
   ]
  },
  {
   "cell_type": "markdown",
   "id": "82efe77c",
   "metadata": {},
   "source": [
    "# Set custom split (TimeSeriesIterator)\n",
    "\n",
    "Example can be found here:\n",
    "https://github.com/sberbank-ai-lab/LightAutoML/blob/master/tests/demo12.py"
   ]
  },
  {
   "cell_type": "code",
   "execution_count": null,
   "id": "ae1eaf8d",
   "metadata": {},
   "outputs": [],
   "source": [
    "from lightautoml.validation.np_iterators import TimeSeriesIterator\n",
    "\n",
    "\n",
    "\n",
    "automl = TabularAutoML(task=task,\n",
    "                       timeout=TIMEOUT,\n",
    "                       memory_limit=30,\n",
    "                       cpu_limit=N_THREADS,\n",
    "                       general_params={'use_algos':\n",
    "                                          [['linear_l2', 'lgb_tuned', 'cb_tuned'] # custom iterator works only for\n",
    "                                           ]},                                    # one-level models\n",
    "                       reader_params={'cv': N_FOLDS,\n",
    "                                      'random_state': RANDOM_STATE,\n",
    "                                      'n_jobs': N_THREADS},\n",
    "                       timing_params = {'mode': 0}\n",
    "                          ) \n",
    "\n",
    "\n",
    "dates = [27, 28, 29, 30, 31, 32] # set dates by which you are going make TS split\n",
    "tss = TimeSeriesIterator(train.item_cnt_month, date_splits=dates)\n",
    "oof_pred = automl.fit_predict(train, cv_iter=tss, roles=roles)"
   ]
  },
  {
   "cell_type": "markdown",
   "id": "e1c68edf",
   "metadata": {},
   "source": [
    "Prediction and count of RMSE"
   ]
  },
  {
   "cell_type": "code",
   "execution_count": null,
   "id": "132c0fc8",
   "metadata": {},
   "outputs": [],
   "source": [
    "test_pred = automl.predict(test_data)\n",
    "\n",
    "rmse = mean_squared_error(valid.item_cnt_month, test_pred.data, squared=False)"
   ]
  },
  {
   "cell_type": "markdown",
   "id": "375a6487",
   "metadata": {},
   "source": [
    "# Using GPU on LAMA - ?"
   ]
  },
  {
   "cell_type": "code",
   "execution_count": 1,
   "id": "adc22a34",
   "metadata": {},
   "outputs": [],
   "source": [
    "def split_by_dates(datetime_col, splitter):\n",
    "        \"\"\"Create indexes of folds splitted by thresholds.\n",
    "\n",
    "        Args:\n",
    "            datetime_col: Column with value which can be interpreted\n",
    "              as time/ordinal value (ex: np.datetime64).\n",
    "            splitter: List of thresholds (same value as ).\n",
    "\n",
    "        Returns:\n",
    "            folds: Array of folds' indexes.\n",
    "\n",
    "        \"\"\"\n",
    "\n",
    "        splitter = np.sort(splitter)\n",
    "        folds = np.searchsorted(splitter, datetime_col)\n",
    "\n",
    "        return folds"
   ]
  }
 ],
 "metadata": {
  "kernelspec": {
   "display_name": "Python 3 (ipykernel)",
   "language": "python",
   "name": "python3"
  },
  "language_info": {
   "codemirror_mode": {
    "name": "ipython",
    "version": 3
   },
   "file_extension": ".py",
   "mimetype": "text/x-python",
   "name": "python",
   "nbconvert_exporter": "python",
   "pygments_lexer": "ipython3",
   "version": "3.8.10"
  }
 },
 "nbformat": 4,
 "nbformat_minor": 5
}
