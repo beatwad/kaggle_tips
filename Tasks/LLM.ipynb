{
 "cells": [
  {
   "cell_type": "markdown",
   "metadata": {},
   "source": [
    "# LLM prompt hub\n",
    "\n",
    "https://smith.langchain.com/hub"
   ]
  },
  {
   "cell_type": "markdown",
   "metadata": {},
   "source": [
    "# 5 levels of text splitting\n",
    "\n",
    "https://www.youtube.com/watch?v=8OJC21T2SL4&t=1962s"
   ]
  }
 ],
 "metadata": {
  "language_info": {
   "name": "python"
  }
 },
 "nbformat": 4,
 "nbformat_minor": 2
}
