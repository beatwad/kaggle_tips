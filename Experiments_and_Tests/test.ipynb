{
 "cells": [
  {
   "cell_type": "markdown",
   "metadata": {},
   "source": [
    "# Experiment tools\n",
    "\n",
    "### Videos\n",
    "\n",
    "https://www.youtube.com/watch?v=BPYOsDCZbno&list=PL1T8fO7ArWleMMI8KPJ_5D5XSlovTW_Ur&index=6\n",
    "\n",
    "https://www.youtube.com/watch?v=NEGDJuINE9E&list=PL1T8fO7ArWleMMI8KPJ_5D5XSlovTW_Ur&index=7\n",
    "\n",
    "### Repo\n",
    "\n",
    "https://github.com/the-full-stack/fsdl-text-recognizer-2022-labs/tree/main/lab05"
   ]
  },
  {
   "cell_type": "markdown",
   "metadata": {},
   "source": [
    "# Linters and Testing and Profiling tools\n",
    "\n",
    "### Videos\n",
    "\n",
    "https://www.youtube.com/watch?v=D65SlCSoS-0&list=PL1T8fO7ArWleMMI8KPJ_5D5XSlovTW_Ur&index=9\n",
    "\n",
    "https://www.youtube.com/watch?v=D65SlCSoS-0\n",
    "\n",
    "### Repo\n",
    "\n",
    "https://github.com/the-full-stack/fsdl-text-recognizer-2022-labs/tree/main/lab05"
   ]
  }
 ],
 "metadata": {
  "language_info": {
   "name": "python"
  }
 },
 "nbformat": 4,
 "nbformat_minor": 2
}
