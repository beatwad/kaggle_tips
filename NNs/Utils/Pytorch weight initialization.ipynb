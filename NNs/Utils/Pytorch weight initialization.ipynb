{
 "cells": [
  {
   "cell_type": "code",
   "execution_count": 2,
   "id": "eae979c7",
   "metadata": {},
   "outputs": [],
   "source": [
    "# Pytorch default: init with Kaiming uniform distribution ~ U[-sqrt(3/(n_in + n_out)); sqrt(3/(n_in + n_out))]\n",
    "# n_in - number of layer's inputs, n_out - number of layer's outputs\n",
    "nn.init.kaiming_uniform_(w, a=0, mode='fan_in', nonlinearity='leaky_relu')\n",
    "# Uniform distribution init\n",
    "nn.init.uniform_(w , a=0.0, b=1.0)\n",
    "# Normal/Gaussian distribution init\n",
    "nn.init.normal_(w , mean=0.0, std=1.0)\n",
    "# Init with constant (bad idea)\n",
    "nn.init.constant_(w, val=0.3)\n",
    "# Init with diagonal matrix (ones on the diagonal, zeroes elsewhere)\n",
    "nn.init.eye_(w)\n",
    "# Init with Xavier uniform distribution ~ U[-sqrt(6/(n_in + n_out)); sqrt(6/(n_in + n_out))] for every layer\n",
    "nn.init.xavier_uniform_(tensor, gain=1.0)\n",
    "# Init with sparse matrix, where the non-zero elements will be drawn from the normal distribution N(0,0.01)\n",
    "nn.init.sparse_(w, sparsity, std=0.01)\n",
    "# Init with orthogonal matrix\n",
    "nn.init.orthogonal_(w, gain=1)"
   ]
  }
 ],
 "metadata": {
  "kernelspec": {
   "display_name": "Python 3 (ipykernel)",
   "language": "python",
   "name": "python3"
  },
  "language_info": {
   "codemirror_mode": {
    "name": "ipython",
    "version": 3
   },
   "file_extension": ".py",
   "mimetype": "text/x-python",
   "name": "python",
   "nbconvert_exporter": "python",
   "pygments_lexer": "ipython3",
   "version": "3.9.7"
  }
 },
 "nbformat": 4,
 "nbformat_minor": 5
}
