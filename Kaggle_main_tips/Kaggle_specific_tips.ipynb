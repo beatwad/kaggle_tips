{
 "cells": [
  {
   "cell_type": "markdown",
   "id": "56c2223a",
   "metadata": {
    "vscode": {
     "languageId": "plaintext"
    }
   },
   "source": [
    "# Tips from personal experience\n",
    "\n",
    "1. EDA first. Do it by your own first, only then use public notebooks.\n",
    "\n",
    "2. If there are data that can be used in the train dataset but missing in the test dataset - think how it can be used:\n",
    "    - modify NN head to predict also that data, it may improve model generalization capability\n",
    "    - transform targets into composite labels and predict them\n",
    "3. If there are groups of higher order in the dataset - you can use them in your model, e.g. send the whole group into your model (or part of it)\n",
    "\n",
    "4. Pay attention to the additional information, e.g. if you know that there are only a fixed number of possible targets for each group/subject and all of them are unique, and model predicted e.g. class 2 with prob 0.5, but you already know that this class was already predicted with prob 0.6 - predict next probable class instead of current.\n",
    "\n",
    "5. If you are vibe-coding (and you defenitily will!) - always write a tests for each code (if possible), visualize it (if possible), etc."
   ]
  }
 ],
 "metadata": {
  "language_info": {
   "name": "python"
  }
 },
 "nbformat": 4,
 "nbformat_minor": 5
}
