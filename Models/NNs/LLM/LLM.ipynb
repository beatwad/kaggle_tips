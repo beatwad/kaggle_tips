{
 "cells": [
  {
   "cell_type": "markdown",
   "metadata": {},
   "source": [
    "# LLM prompt hub\n",
    "\n",
    "https://smith.langchain.com/hub"
   ]
  },
  {
   "cell_type": "markdown",
   "metadata": {},
   "source": [
    "# Prompt guides\n",
    "\n",
    "- [OpenAI/ChatGPT course](https://learnprompting.org/courses/chatgpt-for-everyone)\n",
    "- [Anthropic/Claude course](https://docs.google.com/spreadsheets/d/19jzLgRruG9kjUQNKtCg1ZjdD6l6weA6qRXG5zLIAhC8/edit#gid=150872633)\n",
    "- [Google/Gemini guide + use cases](https://services.google.com/fh/files/misc/gemini-for-google-workspace-prompting-guide-101.pdf)"
   ]
  },
  {
   "cell_type": "markdown",
   "metadata": {},
   "source": [
    "# 5 levels of text splitting\n",
    "\n",
    "Video\n",
    "\n",
    "https://www.youtube.com/watch?v=8OJC21T2SL4&t=1962s\n",
    "\n",
    "Notebook\n",
    "\n",
    "https://github.com/FullStackRetrieval-com/RetrievalTutorials/blob/main/tutorials/LevelsOfTextSplitting/5_Levels_Of_Text_Splitting.ipynb"
   ]
  }
 ],
 "metadata": {
  "language_info": {
   "name": "python"
  }
 },
 "nbformat": 4,
 "nbformat_minor": 2
}
