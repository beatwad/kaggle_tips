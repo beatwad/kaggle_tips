{
 "cells": [
  {
   "cell_type": "markdown",
   "id": "0b4b8aa3",
   "metadata": {},
   "source": [
    "# Permutation feature selection + LGBM\n"
   ]
  },
  {
   "cell_type": "code",
   "execution_count": null,
   "id": "7de43236",
   "metadata": {},
   "outputs": [],
   "source": [
    "import numpy as np\n",
    "import pandas as pd\n",
    "\n",
    "import lightgbm as lgb\n",
    "\n",
    "from imblearn.under_sampling import RandomUnderSampler\n",
    "from sklearn.model_selection import StratifiedKFold\n",
    "from sklearn.metrics import log_loss\n",
    "\n",
    "import eli5\n",
    "from IPython.display import display\n",
    "from eli5.permutation_importance import get_score_importances\n",
    "from eli5.sklearn import PermutationImportance\n",
    "\n",
    "import matplotlib.pyplot as plt\n",
    "\n",
    "import itertools\n",
    "\n",
    "import warnings\n",
    "warnings.filterwarnings('ignore')"
   ]
  },
  {
   "cell_type": "markdown",
   "id": "d33a90a5",
   "metadata": {},
   "source": [
    "## Set feature combinations"
   ]
  },
  {
   "cell_type": "code",
   "execution_count": 48,
   "id": "013ee29b",
   "metadata": {},
   "outputs": [],
   "source": [
    "import pandas as pd\n",
    "\n",
    "# a = pd.read_csv('perm_df_plus_minus.csv')\n",
    "x = pd.read_csv('perm_df_pow_05.csv')\n",
    "y = pd.read_csv('perm_df_log.csv')\n",
    "z = pd.read_csv('perm_df_pow_2.csv')\n",
    "zz = pd.read_csv('perm_df_plus_minus.csv')"
   ]
  },
  {
   "cell_type": "code",
   "execution_count": 50,
   "id": "5c3e1aea",
   "metadata": {
    "scrolled": true
   },
   "outputs": [
    {
     "data": {
      "text/plain": [
       "['DU+FR',\n",
       " 'DU*FR',\n",
       " 'DU/GL',\n",
       " 'DU-EP',\n",
       " 'BQ/DA',\n",
       " 'DH/DU',\n",
       " 'AF/DL',\n",
       " 'AB+DU',\n",
       " 'AH-DU']"
      ]
     },
     "execution_count": 50,
     "metadata": {},
     "output_type": "execute_result"
    }
   ],
   "source": [
    "# list_x = list(x[x['importance'] > 0.002].values[:,0])\n",
    "# list_y = list(y[y['importance'] > 0.002].values[:,0])\n",
    "# list_z = list(z[z['importance'] > 0.002].values[:,0])\n",
    "# list_zz = list(zz[zz['importance'] > 0.002].values[:,0])"
   ]
  },
  {
   "cell_type": "code",
   "execution_count": 49,
   "id": "d8810877",
   "metadata": {
    "scrolled": true
   },
   "outputs": [
    {
     "data": {
      "text/html": [
       "<div>\n",
       "<style scoped>\n",
       "    .dataframe tbody tr th:only-of-type {\n",
       "        vertical-align: middle;\n",
       "    }\n",
       "\n",
       "    .dataframe tbody tr th {\n",
       "        vertical-align: top;\n",
       "    }\n",
       "\n",
       "    .dataframe thead th {\n",
       "        text-align: right;\n",
       "    }\n",
       "</style>\n",
       "<table border=\"1\" class=\"dataframe\">\n",
       "  <thead>\n",
       "    <tr style=\"text-align: right;\">\n",
       "      <th></th>\n",
       "      <th>Unnamed: 0</th>\n",
       "      <th>importance</th>\n",
       "    </tr>\n",
       "  </thead>\n",
       "  <tbody>\n",
       "    <tr>\n",
       "      <th>0</th>\n",
       "      <td>DU+FR</td>\n",
       "      <td>0.00775</td>\n",
       "    </tr>\n",
       "    <tr>\n",
       "      <th>1</th>\n",
       "      <td>DU*FR</td>\n",
       "      <td>0.00525</td>\n",
       "    </tr>\n",
       "    <tr>\n",
       "      <th>2</th>\n",
       "      <td>DU/GL</td>\n",
       "      <td>0.00475</td>\n",
       "    </tr>\n",
       "    <tr>\n",
       "      <th>3</th>\n",
       "      <td>DU-EP</td>\n",
       "      <td>0.00350</td>\n",
       "    </tr>\n",
       "    <tr>\n",
       "      <th>4</th>\n",
       "      <td>BQ/DA</td>\n",
       "      <td>0.00325</td>\n",
       "    </tr>\n",
       "    <tr>\n",
       "      <th>...</th>\n",
       "      <td>...</td>\n",
       "      <td>...</td>\n",
       "    </tr>\n",
       "    <tr>\n",
       "      <th>4507</th>\n",
       "      <td>BQ/CR</td>\n",
       "      <td>-0.00075</td>\n",
       "    </tr>\n",
       "    <tr>\n",
       "      <th>4508</th>\n",
       "      <td>BC-DA</td>\n",
       "      <td>-0.00075</td>\n",
       "    </tr>\n",
       "    <tr>\n",
       "      <th>4509</th>\n",
       "      <td>DL/EB</td>\n",
       "      <td>-0.00100</td>\n",
       "    </tr>\n",
       "    <tr>\n",
       "      <th>4510</th>\n",
       "      <td>BQ*CF</td>\n",
       "      <td>-0.00100</td>\n",
       "    </tr>\n",
       "    <tr>\n",
       "      <th>4511</th>\n",
       "      <td>AB/DE</td>\n",
       "      <td>-0.00100</td>\n",
       "    </tr>\n",
       "  </tbody>\n",
       "</table>\n",
       "<p>4512 rows × 2 columns</p>\n",
       "</div>"
      ],
      "text/plain": [
       "     Unnamed: 0  importance\n",
       "0         DU+FR     0.00775\n",
       "1         DU*FR     0.00525\n",
       "2         DU/GL     0.00475\n",
       "3         DU-EP     0.00350\n",
       "4         BQ/DA     0.00325\n",
       "...         ...         ...\n",
       "4507      BQ/CR    -0.00075\n",
       "4508      BC-DA    -0.00075\n",
       "4509      DL/EB    -0.00100\n",
       "4510      BQ*CF    -0.00100\n",
       "4511      AB/DE    -0.00100\n",
       "\n",
       "[4512 rows x 2 columns]"
      ]
     },
     "execution_count": 49,
     "metadata": {},
     "output_type": "execute_result"
    }
   ],
   "source": [
    "zz"
   ]
  },
  {
   "cell_type": "code",
   "execution_count": 2,
   "id": "3256ea9b",
   "metadata": {},
   "outputs": [],
   "source": [
    "features = train_df.drop(['f_1', 'target'], axis=1).columns\n",
    "generated_features = pd.DataFrame()\n",
    "\n",
    "# with all of these features usually will work too long, so try to comment some of them \n",
    "# and select features separately\n",
    "for fe_a, fe_b in itertools.combinations(features, 2):\n",
    "\n",
    "    generated_features[f'{fe_a}+{fe_b}']   = train_df[fe_a] + train_df[fe_b]\n",
    "    generated_features[f'{fe_a}-{fe_b}']   = train_df[fe_a] - train_df[fe_b] \n",
    "    generated_features[f'{fe_a}*{fe_b}']   = train_df[fe_a] * train_df[fe_b]\n",
    "    generated_features[f'{fe_a}/{fe_b}']   = train_df[fe_a] / train_df[fe_b]\n",
    "\n",
    "    generated_features[f'{fe_a}*{fe_b}_2'] = train_df[fe_a] * train_df[fe_b].pow(2)\n",
    "    generated_features[f'{fe_a}_2*{fe_b}'] = train_df[fe_a].pow(2) * train_df[fe_b]\n",
    "    generated_features[f'{fe_a}_2']        = rain_df[fe_a].pow(2)\n",
    "    generated_features[f'{fe_b}_2']        = train_df[fe_b].pow(2)\n",
    "\n",
    "    generated_features[f'{fe_a}_05'] = train_df[fe_a].pow(0.5)\n",
    "    generated_features[f'{fe_b}_05'] = train_df[fe_b].pow(0.5)\n",
    "    generated_features[f'{fe_a}*{fe_b}_05'] = train_df[fe_a] * train_df[fe_b].pow(0.5)\n",
    "    generated_features[f'{fe_a}_05*{fe_b}'] = train_df[fe_a].pow(0.5) * train_df[fe_b]\n",
    "    \n",
    "    generated_features[f'{fe_a}_log'] = np.log(train_df[fe_a])\n",
    "    generated_features[f'{fe_b}_log'] = np.log(train_df[fe_b])\n",
    "    generated_features[f'{fe_a}*{fe_b}_log'] = train_df[fe_a] * np.log(train_df[fe_b])\n",
    "    generated_features[f'{fe_a}_log*{fe_b}'] = np.log(train_df[fe_a]) * train_df[fe_b]"
   ]
  },
  {
   "cell_type": "markdown",
   "id": "76e5704a",
   "metadata": {},
   "source": [
    "# Permutation importance"
   ]
  },
  {
   "cell_type": "code",
   "execution_count": null,
   "id": "561b809a",
   "metadata": {},
   "outputs": [],
   "source": [
    "# LGBM params\n",
    "params = {\n",
    "    'boosting_type': 'GBDT',\n",
    "    'objective':\"binary\",\n",
    "    'metric':'binary_logloss',\n",
    "    'random_state': 6052023,\n",
    "    'verbose': -1\n",
    "}\n",
    "\n",
    "perm_df = pd.DataFrame()\n",
    "n_splits = 5\n",
    "n_rounds = 5\n",
    "\n",
    "#Balance & downsample\n",
    "sampler = RandomUnderSampler(sampling_strategy={0:200 , 1:100},random_state=0, replacement=False)\n",
    "# x_train_bal, y_train_bal = sampler.fit_resample(train_df.drop(['Class'], axis=1), train_df.Class)\n",
    "x_train_bal, y_train_bal = sampler.fit_resample(generated_features, train_df.Class)\n",
    "\n",
    "#Storage for oof scroe of current resampled dataset\n",
    "oof_score = pd.DataFrame(index=x_train_bal.index, columns=['preds'])\n",
    "\n",
    "#Split Data\n",
    "for i in range(n_rounds):\n",
    "\n",
    "    skf = StratifiedKFold(n_splits=n_splits, shuffle=True, random_state = 5062023 + i)\n",
    "    for fold, (train_index, val_index) in enumerate(skf.split(x_train_bal, y_train_bal)):\n",
    "        print(f'round - {i}, fold - {fold}')\n",
    "        \n",
    "        X_train, Y_train, X_val, Y_val = x_train_bal.iloc[train_index], y_train_bal[train_index], x_train_bal.iloc[val_index], y_train_bal[val_index]\n",
    "\n",
    "        clf = lgb.LGBMClassifier(**params, n_estimators = 1000)\n",
    "        clf.fit(X_train, Y_train, eval_set=[(X_train, Y_train), (X_val, Y_val)], \n",
    "                early_stopping_rounds=30, eval_metric='logloss', verbose=50)\n",
    "\n",
    "        preds = clf.predict_proba(X_val)[:,1]\n",
    "\n",
    "        oof_score.loc[val_index, 'preds'] = preds\n",
    "\n",
    "\n",
    "        perm = PermutationImportance(clf, scoring=None, n_iter=1, \n",
    "                                     random_state=42, cv=None, refit=False).fit(X_val, Y_val)\n",
    "\n",
    "\n",
    "        perm_importance_df = pd.DataFrame({'importance': perm.feature_importances_}, \n",
    "                                           index=X_val.columns).sort_index()\n",
    "\n",
    "        if perm_df.shape[0] == 0:\n",
    "            perm_df = perm_importance_df.copy()\n",
    "        else:\n",
    "            perm_df += perm_importance_df\n",
    "            \n",
    "        print('\\n')\n",
    "        \n",
    "# collect all permutation importances into the dataset and then avearge them by number of rounds * folds\n",
    "perm_df /= n_splits * n_rounds\n",
    "\n",
    "perm_df = perm_df.sort_values('importance', ascending=False)\n",
    "perm_df.to_csv('perm_df.csv')"
   ]
  }
 ],
 "metadata": {
  "kernelspec": {
   "display_name": "Python 3 (ipykernel)",
   "language": "python",
   "name": "python3"
  },
  "language_info": {
   "codemirror_mode": {
    "name": "ipython",
    "version": 3
   },
   "file_extension": ".py",
   "mimetype": "text/x-python",
   "name": "python",
   "nbconvert_exporter": "python",
   "pygments_lexer": "ipython3",
   "version": "3.9.7"
  }
 },
 "nbformat": 4,
 "nbformat_minor": 5
}
