{
 "cells": [
  {
   "cell_type": "markdown",
   "metadata": {},
   "source": [
    "### Miro Board with unit-economy metrics\n",
    "\n",
    "https://miro.com/app/board/uXjVODg5odE=/?moveToWidget=3458764592308797427&cot=14\n",
    "\n",
    "\n",
    "### And corresponding video (Russian)\n",
    "\n",
    "https://www.youtube.com/watch?v=-RIyOrcPgcM"
   ]
  }
 ],
 "metadata": {
  "language_info": {
   "name": "python"
  }
 },
 "nbformat": 4,
 "nbformat_minor": 2
}
