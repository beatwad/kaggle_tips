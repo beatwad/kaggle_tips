{
 "cells": [
  {
   "cell_type": "markdown",
   "id": "1b2191eb",
   "metadata": {},
   "source": [
    "# Some useful presentations\n",
    "\n",
    "https://github.com/data-mining-in-action/DMIA_Sport_2019_Autumn/tree/master/lectures"
   ]
  },
  {
   "cell_type": "markdown",
   "id": "64b24356",
   "metadata": {},
   "source": [
    "# Create dataset with all unique combinations of given columns"
   ]
  },
  {
   "cell_type": "code",
   "execution_count": null,
   "id": "e37436d1",
   "metadata": {},
   "outputs": [],
   "source": [
    "from itertools import product\n",
    "\n",
    "index_cols = ['shop_id', 'item_id', 'date_block_num']\n",
    "\n",
    "# For every month we create a grid from all shops/items combinations from that month\n",
    "grid = [] \n",
    "for block_num in df['date_block_num'].unique():\n",
    "    cur_shops = sales_train[sales_train['date_block_num']==block_num]['shop_id'].unique()\n",
    "    cur_items = sales_train[sales_train['date_block_num']==block_num]['item_id'].unique()\n",
    "    grid.append(np.array(list(product(*[cur_shops, cur_items, [block_num]])),dtype='int32'))\n",
    "\n",
    "#turn the grid into pandas dataframe\n",
    "grid = pd.DataFrame(np.vstack(grid), columns = index_cols, dtype=np.int32)\n",
    "\n",
    "#get aggregated values for (shop_id, item_id, month)\n",
    "gb = sales_train.groupby(index_cols, as_index=False).agg({'item_cnt_day': 'sum'})\n",
    "\n",
    "#join aggregated data to the grid\n",
    "all_data = pd.merge(grid, gb, how='left', on=index_cols).fillna(0)\n",
    "#sort the data\n",
    "all_data.sort_values(['date_block_num', 'shop_id', 'item_id'],inplace=True)"
   ]
  },
  {
   "cell_type": "markdown",
   "id": "be9d2ab5",
   "metadata": {},
   "source": [
    "# Add calendar features"
   ]
  },
  {
   "cell_type": "code",
   "execution_count": null,
   "id": "4a4e0e8c",
   "metadata": {},
   "outputs": [],
   "source": [
    "import math\n",
    "import calendar\n",
    "import holidays\n",
    "import datetime\n",
    "\n",
    "date_blocks = pd.DataFrame(sales_train2.date_block_num.drop_duplicates())\n",
    "\n",
    "def add_month(col):\n",
    "    return int(divmod(col, 12)[1] + 1)\n",
    "\n",
    "def add_year(col):\n",
    "    return int(2013 + divmod(col+1, 12)[0])\n",
    "\n",
    "def add_year_month(row):\n",
    "    return f'{row.year}-{row.month}'\n",
    "\n",
    "def add_season(col):\n",
    "    if 0 < col <= 2 or col == 12:\n",
    "        return 'winter'\n",
    "    if 3 <= col < 6:\n",
    "        return 'spring'\n",
    "    if 6 <= col < 9:\n",
    "        return 'summer'\n",
    "    if 9 <= col < 12:\n",
    "        return 'autumn'\n",
    "    return np.nan\n",
    "\n",
    "# get number of holidays + weekend in each month    \n",
    "ru_holidays = []\n",
    "\n",
    "for date, name in sorted(holidays.RU(years=[2013, 2014, 2015]).items()):\n",
    "    ru_holidays.append(date)\n",
    "    \n",
    "def add_holidays_and_weekends(row):\n",
    "    busines_dates = pd.bdate_range(f\"{row.year}-{row.month}-01\", f\"{row.year}-{row.month}-{row.days_in_month}\")\n",
    "    busines_dates = [b for b in busines_dates if b not in ru_holidays]\n",
    "    return row.days_in_month - len(busines_dates)\n",
    "    \n",
    "def add_weeks_in_month(row):\n",
    "    for i in range(1, row.days_in_month+1):\n",
    "        d = datetime.datetime(row.year, row.month, i)\n",
    "        if d.day > d.weekday():\n",
    "            startdate = d\n",
    "            break\n",
    "    return ((datetime.datetime(row.year, row.month, row.days_in_month) - startdate).days) //7 + 1 \n",
    "    \n",
    "def create_calendar_features(data):\n",
    "    data['month'] = data.date_block_num.apply(add_month) \n",
    "    data['year'] = data.date_block_num.apply(add_year)\n",
    "    data['year_month'] = data.apply(add_year_month, axis=1)\n",
    "    data.year_month = pd.to_datetime(data.year_month, format='%Y-%m')\n",
    "    data['days_in_month'] = data.year_month.dt.daysinmonth\n",
    "    data['weeks_in_month'] = data.apply(add_weeks_in_month, axis=1)\n",
    "    data['season'] = data.month.apply(add_season)\n",
    "    data['holidays_and_weekends_in_month'] = data.apply(add_holidays_and_weekends, axis=1)\n",
    "\n",
    "\n",
    "create_calendar_features(date_blocks)"
   ]
  },
  {
   "cell_type": "markdown",
   "id": "8f2fabf3",
   "metadata": {},
   "source": [
    "# Create group features"
   ]
  },
  {
   "cell_type": "code",
   "execution_count": null,
   "id": "0d00c768",
   "metadata": {},
   "outputs": [],
   "source": [
    "def create_gr_feats(data):\n",
    "    # create aggregation feats for numeric features based on categorical ones\n",
    "    for cat_col in ['shop_id', 'item_category_id', 'city', 'item_id']:\n",
    "        for num_col in ['item_cnt_month', 'item_price']:\n",
    "            for n, f in [('mean', np.mean), ('min', np.nanmin), ('max', np.nanmax)]:\n",
    "                data[n + '_' + num_col + '_by_' + cat_col] = sales_train2.groupby(cat_col)[num_col].transform(f)\n",
    "                \n",
    "    # create features with counts\n",
    "    for col in ['shop_id', 'item_id', 'item_category_id', 'city', 'global_category', 'item_price']:\n",
    "        data[col + '_cnt'] = data[col].map(sales_train2[col].value_counts(dropna = False))"
   ]
  },
  {
   "cell_type": "markdown",
   "id": "561b5daa",
   "metadata": {},
   "source": [
    "# Replace rare values with \"RARE VALUE\" string"
   ]
  },
  {
   "cell_type": "code",
   "execution_count": null,
   "id": "e1d54db1",
   "metadata": {},
   "outputs": [],
   "source": [
    "def create_col_with_min_freq(data, col, min_freq=10):\n",
    "    # replace rare values (less than min_freq rows) in feature by RARE_VALUE\n",
    "    data[col + '_fixed'] = data[col].astype(str)\n",
    "    data.loc[sales_train2[col].value_counts()[data[col + '_fixed']].values < min_freq, col + \n",
    "             '_fixed'] = \"RARE_VALUE\"\n"
   ]
  },
  {
   "cell_type": "markdown",
   "id": "5520f633",
   "metadata": {},
   "source": [
    "# Get data from previous month(s) for timeseries prediction"
   ]
  },
  {
   "cell_type": "code",
   "execution_count": null,
   "id": "ab6420c0",
   "metadata": {},
   "outputs": [],
   "source": [
    "mean_cols = [c for c in sales_train2.columns if c.startswith('mean_item_cnt', 0, 13)] + ['item_cnt_month']\n",
    "\n",
    "def create_time_features():\n",
    "    global sales_train2, sales_test2\n",
    "    win = [i for i in range(1, 4)]\n",
    "    for w in win:\n",
    "        tmp = sales_train2[['date_block_num', 'shop_id', 'item_id'] + mean_cols].copy()\n",
    "        tmp.date_block_num = tmp.date_block_num + w\n",
    "        for c in mean_cols:\n",
    "            tmp.rename({c: c + str(w)}, axis=1, inplace=True)\n",
    "\n",
    "        sales_train2 = sales_train2.join(tmp.set_index(['date_block_num', 'shop_id', 'item_id']), \n",
    "                                         on=['date_block_num', 'shop_id', 'item_id'])\n",
    "        sales_test2 = sales_test2.join(tmp.set_index(['date_block_num', 'shop_id', 'item_id']), \n",
    "                                       on=['date_block_num', 'shop_id', 'item_id'])\n",
    "        del tmp\n",
    "        gc.collect()"
   ]
  }
 ],
 "metadata": {
  "kernelspec": {
   "display_name": "Python 3 (ipykernel)",
   "language": "python",
   "name": "python3"
  },
  "language_info": {
   "codemirror_mode": {
    "name": "ipython",
    "version": 3
   },
   "file_extension": ".py",
   "mimetype": "text/x-python",
   "name": "python",
   "nbconvert_exporter": "python",
   "pygments_lexer": "ipython3",
   "version": "3.8.10"
  }
 },
 "nbformat": 4,
 "nbformat_minor": 5
}
