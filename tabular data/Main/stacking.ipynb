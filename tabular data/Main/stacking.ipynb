{
 "cells": [
  {
   "cell_type": "markdown",
   "id": "d2ce02d1",
   "metadata": {},
   "source": [
    "# Stacking with TimeSeries Split"
   ]
  },
  {
   "cell_type": "markdown",
   "id": "7d945bfb",
   "metadata": {},
   "source": [
    "### Create metafeatures for the train set"
   ]
  },
  {
   "cell_type": "code",
   "execution_count": null,
   "id": "2a5121d8",
   "metadata": {},
   "outputs": [],
   "source": [
    "# dates for the second level\n",
    "dates_level2 = [28, 29, 30, 31, 32, 33]\n",
    "\n",
    "# train dates\n",
    "dates_train = X_train.date_block_num\n",
    "# dates_train_level2 = dates_train[dates_train.isin(dates)]\n",
    "\n",
    "# That is how we get target for the 2nd level dataset\n",
    "y_train_level2 = y_train[dates_train.isin(dates_level2)]\n",
    "\n",
    "# And here we create 2nd level feeature matrix, init it with zeros first\n",
    "X_train_level2 = np.zeros([y_train_level2.shape[0], len(best_params)+1])\n",
    "X_train_level2[:, len(best_params)] = y_train_level2\n",
    "\n",
    "meta_index_begin = 0\n",
    "meta_index_end = 0\n",
    "\n",
    "# Now fill `X_train_level2` with metafeatures\n",
    "for cur_block_num in tqdm_notebook(dates_level2):\n",
    "    \n",
    "    # split data\n",
    "    train_index = X_train.loc[dates_train <  cur_block_num].index\n",
    "    test_index  = X_train.loc[dates_train == cur_block_num].index\n",
    "    \n",
    "    X_train_l2 = X_train.loc[train_index, :]\n",
    "    X_test_l2 =  X_train.loc[test_index, :]\n",
    "\n",
    "    y_train_l2 = y_train[train_index]\n",
    "    y_test_l2 =  y_train[test_index]\n",
    "    \n",
    "    meta_index_end += y_test_l2.shape[0]\n",
    "    \n",
    "    # predict metafeatures for each of LGBM regressors\n",
    "    for i, params in enumerate(tqdm_notebook(best_params)):\n",
    "        lgb = LGBMRegressor(**params)\n",
    "        reg = lgb.fit(X_train_l2, y_train_l2)\n",
    "        pred = lgb.predict(X_test_l2)\n",
    "        X_train_level2[meta_index_begin:meta_index_end, i] = pred\n",
    "\n",
    "        del lgb, reg, pred\n",
    "        gc.collect()\n",
    "        \n",
    "    meta_index_begin = meta_index_end\n",
    "        \n",
    "X_train_level2 = pd.DataFrame(X_train_level2, columns=[f'lgbr_{i+1}' for i in range(len(best_params))]+['gt'])\n",
    "X_train_level2.to_pickle('LGBM_X_train_level2.pkl')"
   ]
  },
  {
   "cell_type": "markdown",
   "id": "03cebfa7",
   "metadata": {},
   "source": [
    "### Create metafeatures for the test set"
   ]
  },
  {
   "cell_type": "code",
   "execution_count": null,
   "id": "82ca9cb8",
   "metadata": {},
   "outputs": [],
   "source": [
    "X_test_level2 = np.zeros([X_test.shape[0], len(best_params)])\n",
    "\n",
    "for i, params in enumerate(tqdm_notebook(best_params)):\n",
    "    lgb = LGBMRegressor(**params)\n",
    "    reg = lgb.fit(X_train, y_train)\n",
    "    pred = lgb.predict(X_test)\n",
    "    X_test_level2[:, i] = pred\n",
    "    \n",
    "    del lgb, reg, pred\n",
    "    gc.collect()\n",
    "    \n",
    "X_test_level2 = pd.DataFrame(X_test_level2, columns=[f'lgbr_{i+1}' for i in range(len(best_params))])\n",
    "X_test_level2.to_pickle('LGBM_X_test_level2.pkl')"
   ]
  },
  {
   "cell_type": "markdown",
   "id": "0a5cada6",
   "metadata": {},
   "source": [
    "### Stacking with Linear Regression"
   ]
  },
  {
   "cell_type": "code",
   "execution_count": null,
   "id": "7f3fa302",
   "metadata": {},
   "outputs": [],
   "source": [
    "from sklearn.linear_model import LinearRegression\n",
    "\n",
    "X = X_train_level2[[c for c in X_train_level2.columns if c != 'gt']]\n",
    "y = X_train_level2['gt']\n",
    "\n",
    "lr = LinearRegression()\n",
    "lr.fit(X, y)\n",
    "\n",
    "pred = lr.predict(X_test_level2)"
   ]
  }
 ],
 "metadata": {
  "kernelspec": {
   "display_name": "Python 3 (ipykernel)",
   "language": "python",
   "name": "python3"
  },
  "language_info": {
   "codemirror_mode": {
    "name": "ipython",
    "version": 3
   },
   "file_extension": ".py",
   "mimetype": "text/x-python",
   "name": "python",
   "nbconvert_exporter": "python",
   "pygments_lexer": "ipython3",
   "version": "3.8.10"
  }
 },
 "nbformat": 4,
 "nbformat_minor": 5
}
