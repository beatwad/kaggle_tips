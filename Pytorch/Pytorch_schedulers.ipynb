{
 "cells": [
  {
   "cell_type": "code",
   "execution_count": 2,
   "metadata": {
    "execution": {
     "iopub.execute_input": "2023-11-10T07:38:12.621025Z",
     "iopub.status.busy": "2023-11-10T07:38:12.619845Z",
     "iopub.status.idle": "2023-11-10T07:38:14.311372Z",
     "shell.execute_reply": "2023-11-10T07:38:14.310569Z",
     "shell.execute_reply.started": "2023-11-10T06:56:31.126580Z"
    },
    "papermill": {
     "duration": 1.722003,
     "end_time": "2023-11-10T07:38:14.311560",
     "exception": false,
     "start_time": "2023-11-10T07:38:12.589557",
     "status": "completed"
    },
    "tags": []
   },
   "outputs": [],
   "source": [
    "import numpy as np\n",
    "import pandas as pd\n",
    "\n",
    "import torch\n",
    "import matplotlib.pyplot as plt"
   ]
  },
  {
   "cell_type": "markdown",
   "metadata": {
    "papermill": {
     "duration": 0.023959,
     "end_time": "2023-11-10T07:38:14.360117",
     "exception": false,
     "start_time": "2023-11-10T07:38:14.336158",
     "status": "completed"
    },
    "tags": []
   },
   "source": [
    "\n",
    "# 1. LAMBDA LR\n",
    "\n",
    "Sets the learning rate of each parameter group to the initial lr times a given function. When last_epoch=-1, sets initial lr as lr.\n",
    "\n",
    "$$\n",
    "l r_{\\text {epoch}} = l r_{\\text {initial}} * Lambda(epoch)\n",
    "$$\n"
   ]
  },
  {
   "cell_type": "code",
   "execution_count": 3,
   "metadata": {
    "execution": {
     "iopub.execute_input": "2023-11-10T07:38:14.419949Z",
     "iopub.status.busy": "2023-11-10T07:38:14.418823Z",
     "iopub.status.idle": "2023-11-10T07:38:14.620785Z",
     "shell.execute_reply": "2023-11-10T07:38:14.620011Z",
     "shell.execute_reply.started": "2023-11-10T06:56:31.134776Z"
    },
    "papermill": {
     "duration": 0.236401,
     "end_time": "2023-11-10T07:38:14.620938",
     "exception": false,
     "start_time": "2023-11-10T07:38:14.384537",
     "status": "completed"
    },
    "tags": []
   },
   "outputs": [
    {
     "data": {
      "text/plain": [
       "[<matplotlib.lines.Line2D at 0x7f60242bdc10>]"
      ]
     },
     "execution_count": 3,
     "metadata": {},
     "output_type": "execute_result"
    },
    {
     "data": {
      "image/png": "[encoded data removed]",
      "text/plain": [
       "<Figure size 432x288 with 1 Axes>"
      ]
     },
     "metadata": {
      "needs_background": "light"
     },
     "output_type": "display_data"
    }
   ],
   "source": [
    "model = torch.nn.Linear(2, 1)\n",
    "optimizer = torch.optim.SGD(model.parameters(), lr=100)\n",
    "lambda1 = lambda epoch: 0.65 ** epoch\n",
    "scheduler = torch.optim.lr_scheduler.LambdaLR(optimizer, lr_lambda=lambda1)\n",
    "\n",
    "\n",
    "lrs = []\n",
    "\n",
    "for i in range(10):\n",
    "    optimizer.step()\n",
    "    lrs.append(optimizer.param_groups[0][\"lr\"])\n",
    "#     print(\"Factor = \", round(0.65 ** i,3),\" , Learning Rate = \",round(optimizer.param_groups[0][\"lr\"],3))\n",
    "    scheduler.step()\n",
    "\n",
    "plt.plot(range(10),lrs)"
   ]
  },
  {
   "cell_type": "markdown",
   "metadata": {
    "papermill": {
     "duration": 0.025552,
     "end_time": "2023-11-10T07:38:14.673128",
     "exception": false,
     "start_time": "2023-11-10T07:38:14.647576",
     "status": "completed"
    },
    "tags": []
   },
   "source": [
    "# 2. MultiplicativeLR\n",
    "\n",
    "Multiply the learning rate of each parameter group by the factor given in the specified function. When last_epoch=-1, sets initial lr as lr.\n",
    "\n",
    "$$\n",
    "l r_{\\text {epoch}} = l r_{\\text {epoch - 1}} * Lambda(epoch)\n",
    "$$"
   ]
  },
  {
   "cell_type": "code",
   "execution_count": 4,
   "metadata": {
    "execution": {
     "iopub.execute_input": "2023-11-10T07:38:14.749163Z",
     "iopub.status.busy": "2023-11-10T07:38:14.747997Z",
     "iopub.status.idle": "2023-11-10T07:38:14.887896Z",
     "shell.execute_reply": "2023-11-10T07:38:14.887286Z",
     "shell.execute_reply.started": "2023-11-10T06:56:31.297807Z"
    },
    "papermill": {
     "duration": 0.189077,
     "end_time": "2023-11-10T07:38:14.888050",
     "exception": false,
     "start_time": "2023-11-10T07:38:14.698973",
     "status": "completed"
    },
    "tags": []
   },
   "outputs": [
    {
     "data": {
      "text/plain": [
       "[<matplotlib.lines.Line2D at 0x7f5fd48ed110>]"
      ]
     },
     "execution_count": 4,
     "metadata": {},
     "output_type": "execute_result"
    },
    {
     "data": {
      "image/png": "[encoded data removed]",
      "text/plain": [
       "<Figure size 432x288 with 1 Axes>"
      ]
     },
     "metadata": {
      "needs_background": "light"
     },
     "output_type": "display_data"
    }
   ],
   "source": [
    "model = torch.nn.Linear(2, 1)\n",
    "optimizer = torch.optim.SGD(model.parameters(), lr=100)\n",
    "lmbda = lambda epoch: 0.65 ** epoch\n",
    "scheduler = torch.optim.lr_scheduler.MultiplicativeLR(optimizer, lr_lambda=lmbda)\n",
    "lrs = []\n",
    "\n",
    "for i in range(10):\n",
    "    optimizer.step()\n",
    "    lrs.append(optimizer.param_groups[0][\"lr\"])\n",
    "#     print(\"Factor = \",0.95,\" , Learning Rate = \",optimizer.param_groups[0][\"lr\"])\n",
    "    scheduler.step()\n",
    "\n",
    "plt.plot(range(10),lrs)"
   ]
  },
  {
   "cell_type": "markdown",
   "metadata": {
    "papermill": {
     "duration": 0.028028,
     "end_time": "2023-11-10T07:38:14.943546",
     "exception": false,
     "start_time": "2023-11-10T07:38:14.915518",
     "status": "completed"
    },
    "tags": []
   },
   "source": [
    "# 3. StepLR\n",
    "\n",
    "Decays the learning rate of each parameter group by gamma every step_size epochs. Notice that such decay can happen simultaneously with other changes to the learning rate from outside this scheduler. When last_epoch=-1, sets initial lr as lr.\n",
    "\n",
    "$$\n",
    "l r_{\\text {epoch}}=\\left\\{\\begin{array}{ll}\n",
    "Gamma * l r_{\\text {epoch - 1}}, & \\text { if } {\\text {epoch % step_size}}=0 \\\\\n",
    "l r_{\\text {epoch - 1}}, & \\text { otherwise }\n",
    "\\end{array}\\right.\n",
    "$$"
   ]
  },
  {
   "cell_type": "code",
   "execution_count": 5,
   "metadata": {
    "execution": {
     "iopub.execute_input": "2023-11-10T07:38:15.020688Z",
     "iopub.status.busy": "2023-11-10T07:38:15.016210Z",
     "iopub.status.idle": "2023-11-10T07:38:15.165949Z",
     "shell.execute_reply": "2023-11-10T07:38:15.165306Z",
     "shell.execute_reply.started": "2023-11-10T06:56:31.431773Z"
    },
    "papermill": {
     "duration": 0.193801,
     "end_time": "2023-11-10T07:38:15.166094",
     "exception": false,
     "start_time": "2023-11-10T07:38:14.972293",
     "status": "completed"
    },
    "tags": []
   },
   "outputs": [
    {
     "data": {
      "text/plain": [
       "[<matplotlib.lines.Line2D at 0x7f5fd4857ad0>]"
      ]
     },
     "execution_count": 5,
     "metadata": {},
     "output_type": "execute_result"
    },
    {
     "data": {
      "image/png": "[encoded data removed]",
      "text/plain": [
       "<Figure size 432x288 with 1 Axes>"
      ]
     },
     "metadata": {
      "needs_background": "light"
     },
     "output_type": "display_data"
    }
   ],
   "source": [
    "model = torch.nn.Linear(2, 1)\n",
    "optimizer = torch.optim.SGD(model.parameters(), lr=100)\n",
    "scheduler = torch.optim.lr_scheduler.StepLR(optimizer, step_size=2, gamma=0.1)\n",
    "lrs = []\n",
    "\n",
    "for i in range(10):\n",
    "    optimizer.step()\n",
    "    lrs.append(optimizer.param_groups[0][\"lr\"])\n",
    "#     print(\"Factor = \",0.1 if i!=0 and i%2!=0 else 1,\" , Learning Rate = \",optimizer.param_groups[0][\"lr\"])\n",
    "    scheduler.step()\n",
    "\n",
    "plt.plot(range(10),lrs)"
   ]
  },
  {
   "cell_type": "markdown",
   "metadata": {
    "papermill": {
     "duration": 0.02805,
     "end_time": "2023-11-10T07:38:15.222628",
     "exception": false,
     "start_time": "2023-11-10T07:38:15.194578",
     "status": "completed"
    },
    "tags": []
   },
   "source": [
    "# 4. MultiStepLR\n",
    "\n",
    "Decays the learning rate of each parameter group by gamma once the number of epoch reaches one of the milestones. Notice that such decay can happen simultaneously with other changes to the learning rate from outside this scheduler. When last_epoch=-1, sets initial lr as lr.\n",
    "\n",
    "$$\n",
    "l r_{\\text {epoch}}=\\left\\{\\begin{array}{ll}\n",
    "Gamma * l r_{\\text {epoch - 1}}, & \\text { if } {\\text{ epoch in [milestones]}} \\\\\n",
    "l r_{\\text {epoch - 1}}, & \\text { otherwise }\n",
    "\\end{array}\\right.\n",
    "$$"
   ]
  },
  {
   "cell_type": "code",
   "execution_count": 6,
   "metadata": {
    "execution": {
     "iopub.execute_input": "2023-11-10T07:38:15.290549Z",
     "iopub.status.busy": "2023-11-10T07:38:15.289721Z",
     "iopub.status.idle": "2023-11-10T07:38:15.448482Z",
     "shell.execute_reply": "2023-11-10T07:38:15.447578Z",
     "shell.execute_reply.started": "2023-11-10T06:56:31.563711Z"
    },
    "papermill": {
     "duration": 0.197603,
     "end_time": "2023-11-10T07:38:15.448640",
     "exception": false,
     "start_time": "2023-11-10T07:38:15.251037",
     "status": "completed"
    },
    "tags": []
   },
   "outputs": [
    {
     "data": {
      "text/plain": [
       "[<matplotlib.lines.Line2D at 0x7f5fd48472d0>]"
      ]
     },
     "execution_count": 6,
     "metadata": {},
     "output_type": "execute_result"
    },
    {
     "data": {
      "image/png": "[encoded data removed]",
      "text/plain": [
       "<Figure size 432x288 with 1 Axes>"
      ]
     },
     "metadata": {
      "needs_background": "light"
     },
     "output_type": "display_data"
    }
   ],
   "source": [
    "model = torch.nn.Linear(2, 1)\n",
    "optimizer = torch.optim.SGD(model.parameters(), lr=100)\n",
    "scheduler = torch.optim.lr_scheduler.MultiStepLR(optimizer, milestones=[6,8,9], gamma=0.1)\n",
    "lrs = []\n",
    "\n",
    "for i in range(10):\n",
    "    optimizer.step()\n",
    "    lrs.append(optimizer.param_groups[0][\"lr\"])\n",
    "#     print(\"Factor = \",0.1 if i in [6,8,9] else 1,\" , Learning Rate = \",optimizer.param_groups[0][\"lr\"])\n",
    "    scheduler.step()\n",
    "\n",
    "plt.plot(range(10),lrs)"
   ]
  },
  {
   "cell_type": "markdown",
   "metadata": {
    "papermill": {
     "duration": 0.030867,
     "end_time": "2023-11-10T07:38:15.509554",
     "exception": false,
     "start_time": "2023-11-10T07:38:15.478687",
     "status": "completed"
    },
    "tags": []
   },
   "source": [
    "# 5. ExponentialLR\n",
    "\n",
    "Decays the learning rate of each parameter group by gamma every epoch. When last_epoch=-1, sets initial lr as lr.\n",
    "\n",
    "$$\n",
    "l r_{\\text {epoch}}= Gamma * l r_{\\text {epoch - 1}}\n",
    "$$\n"
   ]
  },
  {
   "cell_type": "code",
   "execution_count": 7,
   "metadata": {
    "execution": {
     "iopub.execute_input": "2023-11-10T07:38:15.587719Z",
     "iopub.status.busy": "2023-11-10T07:38:15.585629Z",
     "iopub.status.idle": "2023-11-10T07:38:15.734215Z",
     "shell.execute_reply": "2023-11-10T07:38:15.733518Z",
     "shell.execute_reply.started": "2023-11-10T06:56:31.697160Z"
    },
    "papermill": {
     "duration": 0.194685,
     "end_time": "2023-11-10T07:38:15.734350",
     "exception": false,
     "start_time": "2023-11-10T07:38:15.539665",
     "status": "completed"
    },
    "tags": []
   },
   "outputs": [
    {
     "data": {
      "text/plain": [
       "[<matplotlib.lines.Line2D at 0x7f5fd47ab610>]"
      ]
     },
     "execution_count": 7,
     "metadata": {},
     "output_type": "execute_result"
    },
    {
     "data": {
      "image/png": "[encoded data removed]",
      "text/plain": [
       "<Figure size 432x288 with 1 Axes>"
      ]
     },
     "metadata": {
      "needs_background": "light"
     },
     "output_type": "display_data"
    }
   ],
   "source": [
    "model = torch.nn.Linear(2, 1)\n",
    "optimizer = torch.optim.SGD(model.parameters(), lr=100)\n",
    "scheduler = torch.optim.lr_scheduler.ExponentialLR(optimizer, gamma=0.1)\n",
    "lrs = []\n",
    "\n",
    "\n",
    "for i in range(10):\n",
    "    optimizer.step()\n",
    "    lrs.append(optimizer.param_groups[0][\"lr\"])\n",
    "#     print(\"Factor = \",0.1,\" , Learning Rate = \",optimizer.param_groups[0][\"lr\"])\n",
    "    scheduler.step()\n",
    "\n",
    "plt.plot(lrs)\n"
   ]
  },
  {
   "cell_type": "markdown",
   "metadata": {
    "papermill": {
     "duration": 0.03075,
     "end_time": "2023-11-10T07:38:15.796010",
     "exception": false,
     "start_time": "2023-11-10T07:38:15.765260",
     "status": "completed"
    },
    "tags": []
   },
   "source": [
    "# 6. CosineAnnealingLR\n",
    "\n",
    "Set the learning rate of each parameter group using a cosine annealing schedule.\n",
    "When last_epoch=-1, sets initial lr as lr. Notice that because the schedule is defined recursively, the learning rate can be simultaneously modified outside this scheduler by other operators. If the learning rate is set solely by this scheduler, the learning rate at each step becomes:\n",
    "\n",
    "$$\n",
    "\\eta_{t}=\\eta_{\\min }+\\frac{1}{2}\\left(\\eta_{\\max }-\\eta_{\\min }\\right)\\left(1+\\cos \\left(\\frac{T_{c u r}}{T_{\\max }} \\pi\\right)\\right)\n",
    "$$\n",
    "\n",
    "It has been proposed in SGDR: Stochastic Gradient Descent with Warm Restarts. Note that this only implements the cosine annealing part of SGDR, and not the restarts.https://arxiv.org/abs/1608.03983"
   ]
  },
  {
   "cell_type": "code",
   "execution_count": 8,
   "metadata": {
    "execution": {
     "iopub.execute_input": "2023-11-10T07:38:15.884674Z",
     "iopub.status.busy": "2023-11-10T07:38:15.883357Z",
     "iopub.status.idle": "2023-11-10T07:38:16.036356Z",
     "shell.execute_reply": "2023-11-10T07:38:16.035533Z",
     "shell.execute_reply.started": "2023-11-10T06:56:31.828817Z"
    },
    "papermill": {
     "duration": 0.209651,
     "end_time": "2023-11-10T07:38:16.036510",
     "exception": false,
     "start_time": "2023-11-10T07:38:15.826859",
     "status": "completed"
    },
    "tags": []
   },
   "outputs": [
    {
     "data": {
      "text/plain": [
       "[<matplotlib.lines.Line2D at 0x7f5fd4710a90>]"
      ]
     },
     "execution_count": 8,
     "metadata": {},
     "output_type": "execute_result"
    },
    {
     "data": {
      "image/png": "[encoded data removed]",
      "text/plain": [
       "<Figure size 432x288 with 1 Axes>"
      ]
     },
     "metadata": {
      "needs_background": "light"
     },
     "output_type": "display_data"
    }
   ],
   "source": [
    "model = torch.nn.Linear(2, 1)\n",
    "optimizer = torch.optim.SGD(model.parameters(), lr=100)\n",
    "scheduler = torch.optim.lr_scheduler.CosineAnnealingLR(optimizer, T_max=10, eta_min=0)\n",
    "lrs = []\n",
    "\n",
    "\n",
    "for i in range(100):\n",
    "    optimizer.step()\n",
    "    lrs.append(optimizer.param_groups[0][\"lr\"])\n",
    "#     print(\"Factor = \",i,\" , Learning Rate = \",optimizer.param_groups[0][\"lr\"])\n",
    "    scheduler.step()\n",
    "\n",
    "plt.plot(lrs)\n"
   ]
  },
  {
   "cell_type": "markdown",
   "metadata": {
    "papermill": {
     "duration": 0.032212,
     "end_time": "2023-11-10T07:38:16.101998",
     "exception": false,
     "start_time": "2023-11-10T07:38:16.069786",
     "status": "completed"
    },
    "tags": []
   },
   "source": [
    "# 7. CyclicLR - triangular\n",
    "\n"
   ]
  },
  {
   "cell_type": "code",
   "execution_count": 9,
   "metadata": {
    "execution": {
     "iopub.execute_input": "2023-11-10T07:38:16.190829Z",
     "iopub.status.busy": "2023-11-10T07:38:16.189609Z",
     "iopub.status.idle": "2023-11-10T07:38:16.350976Z",
     "shell.execute_reply": "2023-11-10T07:38:16.350218Z",
     "shell.execute_reply.started": "2023-11-10T06:56:31.971796Z"
    },
    "papermill": {
     "duration": 0.216353,
     "end_time": "2023-11-10T07:38:16.351129",
     "exception": false,
     "start_time": "2023-11-10T07:38:16.134776",
     "status": "completed"
    },
    "tags": []
   },
   "outputs": [
    {
     "data": {
      "text/plain": [
       "[<matplotlib.lines.Line2D at 0x7f5fd46fe790>]"
      ]
     },
     "execution_count": 9,
     "metadata": {},
     "output_type": "execute_result"
    },
    {
     "data": {
      "image/png": "[encoded data removed]",
      "text/plain": [
       "<Figure size 432x288 with 1 Axes>"
      ]
     },
     "metadata": {
      "needs_background": "light"
     },
     "output_type": "display_data"
    }
   ],
   "source": [
    "model = torch.nn.Linear(2, 1)\n",
    "optimizer = torch.optim.SGD(model.parameters(), lr=0.1)\n",
    "scheduler = torch.optim.lr_scheduler.CyclicLR(optimizer, base_lr=0.001, max_lr=0.1,step_size_up=5,mode=\"triangular\")\n",
    "lrs = []\n",
    "\n",
    "\n",
    "for i in range(100):\n",
    "    optimizer.step()\n",
    "    lrs.append(optimizer.param_groups[0][\"lr\"])\n",
    "#     print(\"Factor = \",i,\" , Learning Rate = \",optimizer.param_groups[0][\"lr\"])\n",
    "    scheduler.step()\n",
    "\n",
    "plt.plot(lrs)\n"
   ]
  },
  {
   "cell_type": "markdown",
   "metadata": {
    "papermill": {
     "duration": 0.035481,
     "end_time": "2023-11-10T07:38:16.422119",
     "exception": false,
     "start_time": "2023-11-10T07:38:16.386638",
     "status": "completed"
    },
    "tags": []
   },
   "source": [
    "# 8. CyclicLR - triangular2\n"
   ]
  },
  {
   "cell_type": "code",
   "execution_count": 10,
   "metadata": {
    "execution": {
     "iopub.execute_input": "2023-11-10T07:38:16.516220Z",
     "iopub.status.busy": "2023-11-10T07:38:16.514783Z",
     "iopub.status.idle": "2023-11-10T07:38:16.665369Z",
     "shell.execute_reply": "2023-11-10T07:38:16.664341Z",
     "shell.execute_reply.started": "2023-11-10T06:56:32.112377Z"
    },
    "papermill": {
     "duration": 0.207906,
     "end_time": "2023-11-10T07:38:16.665525",
     "exception": false,
     "start_time": "2023-11-10T07:38:16.457619",
     "status": "completed"
    },
    "tags": []
   },
   "outputs": [
    {
     "data": {
      "text/plain": [
       "[<matplotlib.lines.Line2D at 0x7f5fd4669650>]"
      ]
     },
     "execution_count": 10,
     "metadata": {},
     "output_type": "execute_result"
    },
    {
     "data": {
      "image/png": "[encoded data removed]",
      "text/plain": [
       "<Figure size 432x288 with 1 Axes>"
      ]
     },
     "metadata": {
      "needs_background": "light"
     },
     "output_type": "display_data"
    }
   ],
   "source": [
    "model = torch.nn.Linear(2, 1)\n",
    "optimizer = torch.optim.SGD(model.parameters(), lr=0.1)\n",
    "scheduler = torch.optim.lr_scheduler.CyclicLR(optimizer, base_lr=0.01, max_lr=0.1,step_size_up=5,mode=\"triangular2\")\n",
    "lrs = []\n",
    "\n",
    "\n",
    "for i in range(100):\n",
    "    optimizer.step()\n",
    "    lrs.append(optimizer.param_groups[0][\"lr\"])\n",
    "#     print(\"Factor = \",i,\" , Learning Rate = \",optimizer.param_groups[0][\"lr\"])\n",
    "    scheduler.step()\n",
    "\n",
    "plt.plot(lrs)\n"
   ]
  },
  {
   "cell_type": "markdown",
   "metadata": {
    "papermill": {
     "duration": 0.035371,
     "end_time": "2023-11-10T07:38:16.737567",
     "exception": false,
     "start_time": "2023-11-10T07:38:16.702196",
     "status": "completed"
    },
    "tags": []
   },
   "source": [
    "# 9. CyclicLR - exp_range\n"
   ]
  },
  {
   "cell_type": "code",
   "execution_count": 11,
   "metadata": {
    "execution": {
     "iopub.execute_input": "2023-11-10T07:38:16.829346Z",
     "iopub.status.busy": "2023-11-10T07:38:16.817497Z",
     "iopub.status.idle": "2023-11-10T07:38:16.979014Z",
     "shell.execute_reply": "2023-11-10T07:38:16.978358Z",
     "shell.execute_reply.started": "2023-11-10T06:56:32.241988Z"
    },
    "papermill": {
     "duration": 0.206037,
     "end_time": "2023-11-10T07:38:16.979165",
     "exception": false,
     "start_time": "2023-11-10T07:38:16.773128",
     "status": "completed"
    },
    "tags": []
   },
   "outputs": [
    {
     "data": {
      "text/plain": [
       "[<matplotlib.lines.Line2D at 0x7f5fd4649f90>]"
      ]
     },
     "execution_count": 11,
     "metadata": {},
     "output_type": "execute_result"
    },
    {
     "data": {
      "image/png": "[encoded data removed]",
      "text/plain": [
       "<Figure size 432x288 with 1 Axes>"
      ]
     },
     "metadata": {
      "needs_background": "light"
     },
     "output_type": "display_data"
    }
   ],
   "source": [
    "\n",
    "model = torch.nn.Linear(2, 1)\n",
    "optimizer = torch.optim.SGD(model.parameters(), lr=100)\n",
    "scheduler = torch.optim.lr_scheduler.CyclicLR(optimizer, base_lr=0.001, max_lr=0.1,step_size_up=5,mode=\"exp_range\",gamma=0.85)\n",
    "lrs = []\n",
    "\n",
    "\n",
    "for i in range(100):\n",
    "    optimizer.step()\n",
    "    lrs.append(optimizer.param_groups[0][\"lr\"])\n",
    "#     print(\"Factor = \",i,\" , Learning Rate = \",optimizer.param_groups[0][\"lr\"])\n",
    "    scheduler.step()\n",
    "\n",
    "plt.plot(lrs)\n"
   ]
  },
  {
   "cell_type": "markdown",
   "metadata": {
    "papermill": {
     "duration": 0.048708,
     "end_time": "2023-11-10T07:38:17.066231",
     "exception": false,
     "start_time": "2023-11-10T07:38:17.017523",
     "status": "completed"
    },
    "tags": []
   },
   "source": [
    "# 10. OneCycleLR - cos\n",
    "\n",
    "Sets the learning rate of each parameter group according to the 1cycle learning rate policy. The 1cycle policy anneals the learning rate from an initial learning rate to some maximum learning rate and then from that maximum learning rate to some minimum learning rate much lower than the initial learning rate. This policy was initially described in the paper Super-Convergence: Very Fast Training of Neural Networks Using Large Learning Rates.\n",
    "\n",
    "The 1cycle learning rate policy changes the learning rate after every batch. step should be called after a batch has been used for training.\n",
    "\n",
    "This scheduler is not chainable."
   ]
  },
  {
   "cell_type": "code",
   "execution_count": 12,
   "metadata": {
    "execution": {
     "iopub.execute_input": "2023-11-10T07:38:17.160705Z",
     "iopub.status.busy": "2023-11-10T07:38:17.149515Z",
     "iopub.status.idle": "2023-11-10T07:38:17.325007Z",
     "shell.execute_reply": "2023-11-10T07:38:17.324321Z",
     "shell.execute_reply.started": "2023-11-10T06:56:32.371142Z"
    },
    "papermill": {
     "duration": 0.2219,
     "end_time": "2023-11-10T07:38:17.325151",
     "exception": false,
     "start_time": "2023-11-10T07:38:17.103251",
     "status": "completed"
    },
    "tags": []
   },
   "outputs": [
    {
     "data": {
      "text/plain": [
       "[<matplotlib.lines.Line2D at 0x7f5fd45b5610>]"
      ]
     },
     "execution_count": 12,
     "metadata": {},
     "output_type": "execute_result"
    },
    {
     "data": {
      "image/png": "[encoded data removed]",
      "text/plain": [
       "<Figure size 432x288 with 1 Axes>"
      ]
     },
     "metadata": {
      "needs_background": "light"
     },
     "output_type": "display_data"
    }
   ],
   "source": [
    "\n",
    "model = torch.nn.Linear(2, 1)\n",
    "optimizer = torch.optim.SGD(model.parameters(), lr=0.1)\n",
    "scheduler = torch.optim.lr_scheduler.OneCycleLR(optimizer, max_lr=0.1, steps_per_epoch=10, epochs=10)\n",
    "lrs = []\n",
    "\n",
    "\n",
    "for i in range(100):\n",
    "    optimizer.step()\n",
    "    lrs.append(optimizer.param_groups[0][\"lr\"])\n",
    "#     print(\"Factor = \",i,\" , Learning Rate = \",optimizer.param_groups[0][\"lr\"])\n",
    "    scheduler.step()\n",
    "\n",
    "plt.plot(lrs)\n"
   ]
  },
  {
   "cell_type": "markdown",
   "metadata": {
    "papermill": {
     "duration": 0.049097,
     "end_time": "2023-11-10T07:38:17.423174",
     "exception": false,
     "start_time": "2023-11-10T07:38:17.374077",
     "status": "completed"
    },
    "tags": []
   },
   "source": [
    "# 11.OneCycleLR - linear"
   ]
  },
  {
   "cell_type": "code",
   "execution_count": 13,
   "metadata": {
    "execution": {
     "iopub.execute_input": "2023-11-10T07:38:17.515360Z",
     "iopub.status.busy": "2023-11-10T07:38:17.511046Z",
     "iopub.status.idle": "2023-11-10T07:38:17.674374Z",
     "shell.execute_reply": "2023-11-10T07:38:17.673619Z",
     "shell.execute_reply.started": "2023-11-10T06:56:32.673908Z"
    },
    "papermill": {
     "duration": 0.211976,
     "end_time": "2023-11-10T07:38:17.674519",
     "exception": false,
     "start_time": "2023-11-10T07:38:17.462543",
     "status": "completed"
    },
    "tags": []
   },
   "outputs": [
    {
     "data": {
      "text/plain": [
       "[<matplotlib.lines.Line2D at 0x7f5fd4524610>]"
      ]
     },
     "execution_count": 13,
     "metadata": {},
     "output_type": "execute_result"
    },
    {
     "data": {
      "image/png": "[encoded data removed]",
      "text/plain": [
       "<Figure size 432x288 with 1 Axes>"
      ]
     },
     "metadata": {
      "needs_background": "light"
     },
     "output_type": "display_data"
    }
   ],
   "source": [
    "\n",
    "model = torch.nn.Linear(2, 1)\n",
    "optimizer = torch.optim.SGD(model.parameters(), lr=0.1)\n",
    "scheduler = torch.optim.lr_scheduler.OneCycleLR(optimizer, max_lr=0.1, steps_per_epoch=10, epochs=10,anneal_strategy='linear')\n",
    "lrs = []\n",
    "\n",
    "for i in range(100):\n",
    "    optimizer.step()\n",
    "    lrs.append(optimizer.param_groups[0][\"lr\"])\n",
    "#     print(\"Factor = \",i,\" , Learning Rate = \",optimizer.param_groups[0][\"lr\"])\n",
    "    scheduler.step()\n",
    "\n",
    "plt.plot(lrs)\n"
   ]
  },
  {
   "cell_type": "markdown",
   "metadata": {
    "papermill": {
     "duration": 0.039118,
     "end_time": "2023-11-10T07:38:17.755581",
     "exception": false,
     "start_time": "2023-11-10T07:38:17.716463",
     "status": "completed"
    },
    "tags": []
   },
   "source": [
    "# 12.CosineAnnealingWarmRestarts\n",
    "Set the learning rate of each parameter group using a cosine annealing schedule, and restarts after Ti epochs.\n",
    "\n",
    "\n",
    "$$\n",
    "\\eta_{t}=\\eta_{\\min }+\\frac{1}{2}\\left(\\eta_{\\max }-\\eta_{\\min }\\right)\\left(1+\\cos \\left(\\frac{T_{\\operatorname{cur}}}{T_{i}} \\pi\\right)\\right)\n",
    "$$\n"
   ]
  },
  {
   "cell_type": "code",
   "execution_count": 14,
   "metadata": {
    "execution": {
     "iopub.execute_input": "2023-11-10T07:38:17.858499Z",
     "iopub.status.busy": "2023-11-10T07:38:17.849807Z",
     "iopub.status.idle": "2023-11-10T07:38:18.020367Z",
     "shell.execute_reply": "2023-11-10T07:38:18.019670Z",
     "shell.execute_reply.started": "2023-11-10T06:56:32.810860Z"
    },
    "papermill": {
     "duration": 0.225112,
     "end_time": "2023-11-10T07:38:18.020514",
     "exception": false,
     "start_time": "2023-11-10T07:38:17.795402",
     "status": "completed"
    },
    "tags": []
   },
   "outputs": [
    {
     "data": {
      "text/plain": [
       "[<matplotlib.lines.Line2D at 0x7f5fd44924d0>]"
      ]
     },
     "execution_count": 14,
     "metadata": {},
     "output_type": "execute_result"
    },
    {
     "data": {
      "image/png": "[encoded data removed]",
      "text/plain": [
       "<Figure size 432x288 with 1 Axes>"
      ]
     },
     "metadata": {
      "needs_background": "light"
     },
     "output_type": "display_data"
    }
   ],
   "source": [
    "## import torch\n",
    "import matplotlib.pyplot as plt\n",
    "\n",
    "model = torch.nn.Linear(2, 1)\n",
    "optimizer = torch.optim.SGD(model.parameters(), lr=0.1)\n",
    "lr_sched = torch.optim.lr_scheduler.CosineAnnealingWarmRestarts(optimizer, T_0=151, T_mult=1, eta_min=0.001, last_epoch=-1)\n",
    "\n",
    "\n",
    "lrs = []\n",
    "\n",
    "for i in range(300):\n",
    "    lr_sched.step()\n",
    "    lrs.append(\n",
    "        optimizer.param_groups[0][\"lr\"]\n",
    "    )\n",
    "\n",
    "plt.plot(lrs)"
   ]
  },
  {
   "cell_type": "markdown",
   "metadata": {
    "papermill": {
     "duration": 0.041356,
     "end_time": "2023-11-10T07:38:18.105049",
     "exception": false,
     "start_time": "2023-11-10T07:38:18.063693",
     "status": "completed"
    },
    "tags": []
   },
   "source": [
    "### Similar scheduler but using different function"
   ]
  },
  {
   "cell_type": "code",
   "execution_count": 15,
   "metadata": {
    "execution": {
     "iopub.execute_input": "2023-11-10T07:38:18.198294Z",
     "iopub.status.busy": "2023-11-10T07:38:18.197507Z",
     "iopub.status.idle": "2023-11-10T07:38:20.157655Z",
     "shell.execute_reply": "2023-11-10T07:38:20.158527Z",
     "shell.execute_reply.started": "2023-11-10T06:56:33.084890Z"
    },
    "papermill": {
     "duration": 2.012136,
     "end_time": "2023-11-10T07:38:20.158752",
     "exception": false,
     "start_time": "2023-11-10T07:38:18.146616",
     "status": "completed"
    },
    "tags": []
   },
   "outputs": [
    {
     "name": "stderr",
     "output_type": "stream",
     "text": [
      "\u001b[34m\u001b[1mwandb\u001b[0m: \u001b[33mWARNING\u001b[0m W&B installed but not logged in.  Run `wandb login` or set the WANDB_API_KEY env variable.\n"
     ]
    },
    {
     "data": {
      "text/plain": [
       "[<matplotlib.lines.Line2D at 0x7f5fd030fb10>]"
      ]
     },
     "execution_count": 15,
     "metadata": {},
     "output_type": "execute_result"
    },
    {
     "data": {
      "image/png": "[encoded data removed]",
      "text/plain": [
       "<Figure size 432x288 with 1 Axes>"
      ]
     },
     "metadata": {
      "needs_background": "light"
     },
     "output_type": "display_data"
    }
   ],
   "source": [
    "from transformers import get_cosine_schedule_with_warmup\n",
    "\n",
    "model = torch.nn.Linear(2, 1)\n",
    "optimizer = torch.optim.SGD(model.parameters(), lr=0.1)\n",
    "csww_sched = get_cosine_schedule_with_warmup(optimizer, num_warmup_steps=0, num_training_steps=300, num_cycles=1.5)\n",
    "\n",
    "lrs = []\n",
    "\n",
    "for i in range(300):\n",
    "    optimizer.step()\n",
    "    csww_sched.step()\n",
    "    lrs.append(\n",
    "        optimizer.param_groups[0][\"lr\"]\n",
    "    )\n",
    "\n",
    "plt.plot(lrs)"
   ]
  },
  {
   "cell_type": "markdown",
   "metadata": {
    "papermill": {
     "duration": 0.045728,
     "end_time": "2023-11-10T07:38:20.252476",
     "exception": false,
     "start_time": "2023-11-10T07:38:20.206748",
     "status": "completed"
    },
    "tags": []
   },
   "source": [
    "# Cosine scheduler with warmup and decay after every cycle"
   ]
  },
  {
   "cell_type": "code",
   "execution_count": 16,
   "metadata": {
    "execution": {
     "iopub.execute_input": "2023-11-10T07:38:20.358484Z",
     "iopub.status.busy": "2023-11-10T07:38:20.357246Z",
     "iopub.status.idle": "2023-11-10T07:38:20.536972Z",
     "shell.execute_reply": "2023-11-10T07:38:20.536349Z",
     "shell.execute_reply.started": "2023-11-10T07:31:57.010677Z"
    },
    "papermill": {
     "duration": 0.241046,
     "end_time": "2023-11-10T07:38:20.537114",
     "exception": false,
     "start_time": "2023-11-10T07:38:20.296068",
     "status": "completed"
    },
    "tags": []
   },
   "outputs": [
    {
     "data": {
      "text/plain": [
       "[<matplotlib.lines.Line2D at 0x7f5fcbc9d7d0>]"
      ]
     },
     "execution_count": 16,
     "metadata": {},
     "output_type": "execute_result"
    },
    {
     "data": {
      "image/png": "[encoded data removed]",
      "text/plain": [
       "<Figure size 432x288 with 1 Axes>"
      ]
     },
     "metadata": {
      "needs_background": "light"
     },
     "output_type": "display_data"
    }
   ],
   "source": [
    "import math\n",
    "from torch.optim.lr_scheduler import CosineAnnealingWarmRestarts\n",
    "\n",
    "class CosineAnnealingWarmRestartsDecay(torch.optim.lr_scheduler.CosineAnnealingWarmRestarts):\n",
    "    def __init__(self, optimizer, T_0, T_mult=1, eta_min=0, last_epoch=-1, decay=0.5):\n",
    "        # initialize base class\n",
    "        super(CosineAnnealingWarmRestartsDecay, self).__init__(optimizer, T_0, T_mult, eta_min, last_epoch)\n",
    "        self.T_0 = T_0\n",
    "        self.decay = decay\n",
    "        self.optimizer = optimizer\n",
    "\n",
    "    def step(self, epoch=None):\n",
    "        \n",
    "        if epoch is not None and epoch > 0 and epoch % self.T_0 == 0:\n",
    "            self.base_lrs = [lrs * self.decay for lrs in self.base_lrs]\n",
    "        super().step(epoch)\n",
    "\n",
    "model = torch.nn.Linear(2, 1)\n",
    "optimizer = torch.optim.SGD(model.parameters(), lr=0.1)\n",
    "lr_sched = CosineAnnealingWarmRestartsDecay(optimizer, T_0=150, T_mult=1, eta_min=1e-7, last_epoch=-1, decay=0.1)\n",
    "\n",
    "lrs = []\n",
    "\n",
    "for i in range(300):\n",
    "    optimizer.step()\n",
    "    lr_sched.step(i)\n",
    "    lrs.append(\n",
    "        optimizer.param_groups[0][\"lr\"]\n",
    "    )\n",
    "\n",
    "plt.plot(lrs)            \n"
   ]
  }
 ],
 "metadata": {
  "kernelspec": {
   "display_name": "Python 3",
   "language": "python",
   "name": "python3"
  },
  "language_info": {
   "codemirror_mode": {
    "name": "ipython",
    "version": 3
   },
   "file_extension": ".py",
   "mimetype": "text/x-python",
   "name": "python",
   "nbconvert_exporter": "python",
   "pygments_lexer": "ipython3",
   "version": "3.7.6"
  },
  "papermill": {
   "duration": 20.155756,
   "end_time": "2023-11-10T07:38:20.692575",
   "environment_variables": {},
   "exception": null,
   "input_path": "__notebook__.ipynb",
   "output_path": "__notebook__.ipynb",
   "parameters": {},
   "start_time": "2023-11-10T07:38:00.536819",
   "version": "2.1.0"
  }
 },
 "nbformat": 4,
 "nbformat_minor": 4
}
