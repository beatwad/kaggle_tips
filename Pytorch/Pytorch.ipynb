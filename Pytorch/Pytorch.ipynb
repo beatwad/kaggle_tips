{
 "cells": [
  {
   "attachments": {},
   "cell_type": "markdown",
   "metadata": {},
   "source": [
    "\n",
    "# Show version"
   ]
  },
  {
   "cell_type": "code",
   "execution_count": 2,
   "metadata": {},
   "outputs": [
    {
     "name": "stdout",
     "output_type": "stream",
     "text": [
      "3.10.6\n",
      "2.0.1+cu117\n",
      "True\n"
     ]
    }
   ],
   "source": [
    "import torch\n",
    "from platform import python_version\n",
    "\n",
    "print(python_version())\n",
    "print(torch.__version__)\n",
    "print(torch.cuda.is_available())"
   ]
  },
  {
   "attachments": {},
   "cell_type": "markdown",
   "metadata": {},
   "source": [
    "# Tensor creation (for CPU)"
   ]
  },
  {
   "cell_type": "code",
   "execution_count": 56,
   "metadata": {},
   "outputs": [
    {
     "name": "stdout",
     "output_type": "stream",
     "text": [
      "tensor([[1, 2, 3, 4],\n",
      "        [5, 6, 7, 8]])\n",
      "torch.Size([2, 4])\n",
      "torch.int64\n",
      "cpu\n",
      "torch.LongTensor\n",
      "2\n",
      "torch.Size([2, 4])\n",
      "8\n"
     ]
    }
   ],
   "source": [
    "x = torch.tensor([[1, 2, 3, 4], [5, 6, 7, 8]])\n",
    "\n",
    "print(x)\n",
    "print(x.shape) # tensor size\n",
    "print(x.dtype) # data type\n",
    "print(x.device) # where is stored\n",
    "print(x.type()) # type\n",
    "print(x.dim()) # tensor dimensiality\n",
    "print(x.size()) # tensor size\n",
    "print(x.numel()) # total number of elements in tensor"
   ]
  },
  {
   "attachments": {},
   "cell_type": "markdown",
   "metadata": {},
   "source": [
    "# Tensor creation (for GPU)"
   ]
  },
  {
   "cell_type": "code",
   "execution_count": 54,
   "metadata": {},
   "outputs": [
    {
     "name": "stdout",
     "output_type": "stream",
     "text": [
      "tensor([[1., 2., 3., 4.],\n",
      "        [5., 6., 7., 8.]], device='cuda:0')\n",
      "torch.Size([2, 4])\n",
      "torch.float32\n",
      "cuda:0\n",
      "torch.cuda.FloatTensor\n"
     ]
    }
   ],
   "source": [
    "x = torch.cuda.FloatTensor([[1, 2, 3, 4], [5, 6, 7, 8]])\n",
    "print(x)\n",
    "print(x.shape) # tensor size\n",
    "print(x.dtype) # data type\n",
    "print(x.device) # where is stored\n",
    "print(x.type()) # type"
   ]
  },
  {
   "attachments": {},
   "cell_type": "markdown",
   "metadata": {},
   "source": [
    "# Tensor type changing"
   ]
  },
  {
   "cell_type": "code",
   "execution_count": 59,
   "metadata": {},
   "outputs": [
    {
     "name": "stdout",
     "output_type": "stream",
     "text": [
      "tensor([1., 2.])\n",
      "tensor([1., 2.], dtype=torch.float64)\n",
      "tensor([1., 2.])\n"
     ]
    }
   ],
   "source": [
    "x = torch.IntTensor([1, 2]).float()\n",
    "print(x)\n",
    "\n",
    "x = torch.IntTensor([1, 2]).to(torch.float64)\n",
    "print(x)\n",
    "\n",
    "x = torch.IntTensor([1, 2]) + 0.0\n",
    "print(x)"
   ]
  },
  {
   "attachments": {},
   "cell_type": "markdown",
   "metadata": {},
   "source": [
    "# Tensor creation"
   ]
  },
  {
   "cell_type": "code",
   "execution_count": 76,
   "metadata": {},
   "outputs": [
    {
     "name": "stdout",
     "output_type": "stream",
     "text": [
      "tensor([[2.1707e-18, 7.0952e+22, 1.7748e+28, 1.8176e+31, 7.2708e+31],\n",
      "        [5.0778e+31, 3.2608e-12, 1.7728e+28, 7.0367e+22, 2.1715e-18],\n",
      "        [8.2265e+20, 2.1160e-07, 8.5392e-07, 2.6848e-06, 1.6517e-04]])\n",
      "tensor([[1., 1., 1., 1., 1.],\n",
      "        [1., 1., 1., 1., 1.],\n",
      "        [1., 1., 1., 1., 1.]])\n",
      "tensor([[3.1400, 3.1400, 3.1400, 3.1400, 3.1400],\n",
      "        [3.1400, 3.1400, 3.1400, 3.1400, 3.1400],\n",
      "        [3.1400, 3.1400, 3.1400, 3.1400, 3.1400]])\n",
      "tensor([[1., 0., 0., 0., 0.],\n",
      "        [0., 1., 0., 0., 0.],\n",
      "        [0., 0., 1., 0., 0.]])\n",
      "tensor([[0.8823, 0.9150, 0.3829, 0.9593, 0.3904],\n",
      "        [0.6009, 0.2566, 0.7936, 0.9408, 0.1332],\n",
      "        [0.9346, 0.5936, 0.8694, 0.5677, 0.7411]])\n",
      "tensor([[-1.2284,  0.5294,  1.2211,  0.1511, -0.3319],\n",
      "        [-0.4785, -0.2631, -0.1786, -1.1859, -0.8860],\n",
      "        [-0.7150,  0.1280, -0.1603, -2.2161, -0.6858]])\n",
      "tensor([[2, 3, 3, 2, 3],\n",
      "        [2, 3, 2, 3, 3],\n",
      "        [2, 2, 2, 2, 2]])\n",
      "tensor([0, 2, 4, 6, 8])\n",
      "tensor([ 0.,  5., 10.])\n",
      "tensor([ 1.0000,  3.1623, 10.0000])\n",
      "tensor([5.4796e+02, 3.0621e-41, 5.4776e+02])\n",
      "tensor([0., 0., 0.])\n",
      "tensor([1., 1., 1.])\n"
     ]
    }
   ],
   "source": [
    "x = torch.empty(3, 5) # empty tensor\n",
    "print(x)\n",
    "\n",
    "x = torch.ones(3, 5) # tensor with all ones\n",
    "print(x)\n",
    "\n",
    "x = torch.full((3, 5), 3.14, dtype=torch.float) # tensor filled with 3.14\n",
    "print(x)\n",
    "\n",
    "x = torch.eye(3, 5) # tensor (matrix) with all ones on the main diagonal\n",
    "print(x)\n",
    "\n",
    "torch.manual_seed(42)\n",
    "x = torch.rand(3, 5) # random tensor with elements uniformely distributed in [0, 1]\n",
    "print(x)\n",
    "\n",
    "x = torch.randn(3, 5) # random tensor with normally distributed elements\n",
    "print(x)\n",
    "\n",
    "x = torch.randint(2, 4, (3, 5)) # random tensor with integer numbers from 2 to 4 (not included)\n",
    "print(x)\n",
    "\n",
    "x = torch.arange(0, 10, 2) # np.arange analogue\n",
    "print(x)\n",
    "\n",
    "x = torch.linspace(0, 10, 3) # np.linspace analogue\n",
    "print(x)\n",
    "\n",
    "x = torch.logspace(0, 1, 3) # np.logspace analogue\n",
    "print(x)\n",
    "\n",
    "y = torch.empty_like(x) # empty tensor with shape like x\n",
    "print(y)\n",
    "\n",
    "y = torch.zeros_like(x) # tensor with all zeros and shape like x\n",
    "print(y)\n",
    "\n",
    "y = torch.ones_like(x) # tensor with all ones and shape like x\n",
    "print(y)\n"
   ]
  },
  {
   "attachments": {},
   "cell_type": "markdown",
   "metadata": {},
   "source": [
    "# Tensor slicing\n",
    "\n",
    "Like in python arrays"
   ]
  },
  {
   "cell_type": "code",
   "execution_count": 82,
   "metadata": {},
   "outputs": [
    {
     "data": {
      "text/plain": [
       "(tensor([1, 1, 0, 9, 0]),\n",
       " tensor([1, 1, 0, 9, 0]),\n",
       " tensor([[1, 1, 0, 9, 0]]),\n",
       " tensor([[1, 1, 0, 9, 0]]),\n",
       " tensor([1, 1, 0, 9, 0]))"
      ]
     },
     "execution_count": 82,
     "metadata": {},
     "output_type": "execute_result"
    }
   ],
   "source": [
    "x = torch.randint(0, 10, (2, 5))\n",
    "x[0], x[0,:], x[[0], :], x[:1, :], x[-2, :]"
   ]
  },
  {
   "attachments": {},
   "cell_type": "markdown",
   "metadata": {},
   "source": [
    "# Tensor indexing"
   ]
  },
  {
   "cell_type": "code",
   "execution_count": 86,
   "metadata": {},
   "outputs": [
    {
     "name": "stdout",
     "output_type": "stream",
     "text": [
      "tensor(1)\n",
      "1\n"
     ]
    }
   ],
   "source": [
    "print(x[0, 0]) # it's tensor 1x1\n",
    "print(x[0, 0].item()) # it's tensor's element value"
   ]
  },
  {
   "attachments": {},
   "cell_type": "markdown",
   "metadata": {},
   "source": [
    "# Tensor copy\n",
    "\n",
    "If using clone, copy remains connected with computation graph. \n",
    "\n",
    "If using copy_(), copy this doesn't happen.\n",
    "\n",
    "If using detach - removes from copy any information about computation graph it's connected with."
   ]
  },
  {
   "cell_type": "code",
   "execution_count": 92,
   "metadata": {},
   "outputs": [
    {
     "name": "stderr",
     "output_type": "stream",
     "text": [
      "/tmp/ipykernel_66371/4235412209.py:3: UserWarning: To copy construct from a tensor, it is recommended to use sourceTensor.clone().detach() or sourceTensor.clone().detach().requires_grad_(True), rather than tensor.new_tensor(sourceTensor).\n",
      "  b = a.new_tensor(a)\n",
      "/tmp/ipykernel_66371/4235412209.py:6: UserWarning: To copy construct from a tensor, it is recommended to use sourceTensor.clone().detach() or sourceTensor.clone().detach().requires_grad_(True), rather than torch.tensor(sourceTensor).\n",
      "  b = torch.tensor(a)\n"
     ]
    }
   ],
   "source": [
    "a = torch.tensor([[1, 2], [3, 4]])\n",
    "\n",
    "b = a.new_tensor(a)\n",
    "b = a.clone().detach()\n",
    "b = torch.empty_like(a).copy_(a)\n",
    "b = torch.tensor(a)\n",
    "b = a.detach().clone() # best way"
   ]
  },
  {
   "attachments": {},
   "cell_type": "markdown",
   "metadata": {},
   "source": [
    "# Tensor transpose"
   ]
  },
  {
   "cell_type": "code",
   "execution_count": 95,
   "metadata": {},
   "outputs": [
    {
     "name": "stdout",
     "output_type": "stream",
     "text": [
      "tensor([[1, 9],\n",
      "        [1, 1],\n",
      "        [0, 8],\n",
      "        [9, 9],\n",
      "        [0, 6]])\n"
     ]
    }
   ],
   "source": [
    "xt = x.t() # transpose operation, do not copies element, uses the same memory as x, this was done to prevent excessive copy operations\n",
    "print(xt)"
   ]
  },
  {
   "attachments": {},
   "cell_type": "markdown",
   "metadata": {},
   "source": [
    "# Tensor stacking"
   ]
  },
  {
   "cell_type": "code",
   "execution_count": 10,
   "metadata": {},
   "outputs": [
    {
     "name": "stdout",
     "output_type": "stream",
     "text": [
      "tensor([[[1, 2],\n",
      "         [3, 4]],\n",
      "\n",
      "        [[5, 6],\n",
      "         [7, 8]]]) \n",
      " torch.Size([2, 2, 2]) \n",
      "\n",
      "tensor([[[1, 2],\n",
      "         [5, 6]],\n",
      "\n",
      "        [[3, 4],\n",
      "         [7, 8]]]) \n",
      " torch.Size([2, 2, 2]) \n",
      "\n",
      "tensor([[[1, 5],\n",
      "         [2, 6]],\n",
      "\n",
      "        [[3, 7],\n",
      "         [4, 8]]]) \n",
      " torch.Size([2, 2, 2]) \n",
      "\n"
     ]
    }
   ],
   "source": [
    "x = torch.tensor([[1, 2], [3, 4]])\n",
    "y = torch.tensor([[5, 6], [7, 8]])\n",
    "\n",
    "z = torch.stack((x, y)) # tensor stacking (default dim=0)\n",
    "print (z, '\\n', z.shape, '\\n')\n",
    "\n",
    "w = torch.stack((x, y), dim=1)\n",
    "print (w, '\\n', w.shape, '\\n')\n",
    "\n",
    "v = torch.stack((x, y), dim=2)\n",
    "print (v, '\\n', v.shape, '\\n')"
   ]
  },
  {
   "attachments": {},
   "cell_type": "markdown",
   "metadata": {},
   "source": [
    "# Tensor unstacking"
   ]
  },
  {
   "cell_type": "code",
   "execution_count": 11,
   "metadata": {},
   "outputs": [
    {
     "name": "stdout",
     "output_type": "stream",
     "text": [
      "tensor([[1, 2],\n",
      "        [3, 4]]) \n",
      " tensor([[5, 6],\n",
      "        [7, 8]])\n"
     ]
    }
   ],
   "source": [
    "x, y = z.unbind(dim=0)\n",
    "print (x, '\\n', y)"
   ]
  },
  {
   "attachments": {},
   "cell_type": "markdown",
   "metadata": {},
   "source": [
    "# Tensor concatenation\n",
    "\n",
    "Difference from stacking - doesn't create new dimension, uses existing."
   ]
  },
  {
   "cell_type": "code",
   "execution_count": 14,
   "metadata": {},
   "outputs": [
    {
     "name": "stdout",
     "output_type": "stream",
     "text": [
      "tensor([[1, 2, 5, 6],\n",
      "        [3, 4, 7, 8]]) \n",
      " torch.Size([2, 4]) \n",
      "\n",
      "tensor([[1, 2],\n",
      "        [3, 4],\n",
      "        [5, 6],\n",
      "        [7, 8]]) \n",
      " torch.Size([4, 2]) \n",
      "\n"
     ]
    }
   ],
   "source": [
    "x = torch.tensor([[1, 2], [3, 4]])\n",
    "y = torch.tensor([[5, 6], [7, 8]])\n",
    "\n",
    "z = torch.cat([x, y], axis=1)\n",
    "w = torch.cat([x, y], axis=0)\n",
    "\n",
    "print (z, '\\n', z.shape, '\\n')\n",
    "print (w, '\\n', w.shape, '\\n')\n"
   ]
  },
  {
   "attachments": {},
   "cell_type": "markdown",
   "metadata": {},
   "source": [
    "# Tensor: create new dimension"
   ]
  },
  {
   "cell_type": "code",
   "execution_count": 16,
   "metadata": {},
   "outputs": [
    {
     "name": "stdout",
     "output_type": "stream",
     "text": [
      "torch.Size([1, 2, 2]) torch.Size([2, 1, 2]) torch.Size([2, 2, 1])\n",
      "torch.Size([1, 2, 2]) torch.Size([2, 1, 2]) torch.Size([2, 2, 1])\n"
     ]
    }
   ],
   "source": [
    "x = torch.tensor([[1, 2], [3, 4]])\n",
    "\n",
    "# create new dimension and set it's position\n",
    "print (x.unsqueeze(dim=0).shape, x.unsqueeze(dim=1).shape, x.unsqueeze(dim=2).shape)\n",
    "print (x[None, :, :].shape, x[:, None, :].shape, x[:, :, None].shape)"
   ]
  },
  {
   "attachments": {},
   "cell_type": "markdown",
   "metadata": {},
   "source": [
    "# Tensor: delete new dimension"
   ]
  },
  {
   "cell_type": "code",
   "execution_count": 18,
   "metadata": {},
   "outputs": [
    {
     "data": {
      "text/plain": [
       "torch.Size([3, 2])"
      ]
     },
     "execution_count": 18,
     "metadata": {},
     "output_type": "execute_result"
    }
   ],
   "source": [
    "# delete axis with dimensiality 1\n",
    "torch.empty(3, 1, 2, 1).squeeze().shape"
   ]
  },
  {
   "attachments": {},
   "cell_type": "markdown",
   "metadata": {},
   "source": [
    "# Tensors are contiguous"
   ]
  },
  {
   "cell_type": "code",
   "execution_count": 26,
   "metadata": {},
   "outputs": [],
   "source": [
    "import torch\n",
    "H = torch.rand((10000, 10000))"
   ]
  },
  {
   "cell_type": "code",
   "execution_count": 27,
   "metadata": {},
   "outputs": [
    {
     "name": "stdout",
     "output_type": "stream",
     "text": [
      "CPU times: user 76.9 ms, sys: 0 ns, total: 76.9 ms\n",
      "Wall time: 19.3 ms\n"
     ]
    }
   ],
   "source": [
    "# sum of rows is faster\n",
    "%%time\n",
    "s = torch.sum(H, axis=1)"
   ]
  },
  {
   "cell_type": "code",
   "execution_count": 28,
   "metadata": {},
   "outputs": [
    {
     "name": "stdout",
     "output_type": "stream",
     "text": [
      "CPU times: user 115 ms, sys: 0 ns, total: 115 ms\n",
      "Wall time: 29.6 ms\n"
     ]
    }
   ],
   "source": [
    "# sum of columns is slower\n",
    "%%time\n",
    "s = torch.sum(H, axis=0)"
   ]
  },
  {
   "attachments": {
    "image-2.png": {
     "image/png": "[encoded data removed]"
    },
    "image-3.png": {
     "image/png": "[encoded data removed]"
    }
   },
   "cell_type": "markdown",
   "metadata": {},
   "source": [
    "This is happening because in Pytorch 2 or more dimensional tensors by default are stored in memory by rows (to access the next row, we just move to the next memory address). \n",
    "\n",
    "![image-2.png](attachment:image-2.png) \n",
    "\n",
    "This way of storing in memory is called **contiguous**.\n",
    "\n",
    "![image-3.png](attachment:image-3.png)\n",
    "\n",
    "That why row sum is faster. More info here:\n",
    "\n",
    "https://stackoverflow.com/questions/26998223/what-is-the-difference-between-contiguous-and-non-contiguous-arrays/26999092%2326999092"
   ]
  },
  {
   "attachments": {},
   "cell_type": "markdown",
   "metadata": {},
   "source": [
    "# Changing of contiguousness\n",
    "\n",
    "Tensor transpose operation can change contiguousness"
   ]
  },
  {
   "cell_type": "code",
   "execution_count": 31,
   "metadata": {},
   "outputs": [
    {
     "name": "stdout",
     "output_type": "stream",
     "text": [
      "True\n",
      "False\n",
      "tensor(42.)\n"
     ]
    }
   ],
   "source": [
    "x = torch.randn(3, 2)\n",
    "print (x.is_contiguous()) # contiguous\n",
    "\n",
    "y = torch.transpose(x, 0, 1)\n",
    "print (y.is_contiguous()) # not contiguous\n",
    "\n",
    "x[0, 0] = 42 # but x and y share the same memory\n",
    "print(y[0, 0]) # 42"
   ]
  },
  {
   "attachments": {},
   "cell_type": "markdown",
   "metadata": {},
   "source": [
    "# Size of tensors\n",
    "\n",
    "Tensor representation can be changed by view, actually view operation changes size but actually data don't move. Pytorch just remembers that tensor has different size now. View works only with contiguous tensors, in opposite case error message will appear (to prevent this we can preliminary make tensor contiguous with .contiguous() operation)."
   ]
  },
  {
   "cell_type": "code",
   "execution_count": 231,
   "metadata": {},
   "outputs": [
    {
     "name": "stdout",
     "output_type": "stream",
     "text": [
      "contiguous True\n",
      "pull to 1D tensor([ 0,  1,  2,  3,  4,  5,  6,  7,  8,  9, 10, 11, 12, 13, 14, 15, 16, 17,\n",
      "        18, 19, 20, 21, 22, 23, 24, 25, 26, 27, 28, 29, 30, 31, 32, 33, 34, 35,\n",
      "        36, 37, 38, 39, 40, 41, 42, 43, 44, 45, 46, 47, 48, 49, 50, 51, 52, 53,\n",
      "        54, 55, 56, 57, 58, 59, 60, 61, 62, 63, 64, 65, 66, 67, 68, 69, 70, 71,\n",
      "        72, 73, 74, 75, 76, 77, 78, 79])\n"
     ]
    }
   ],
   "source": [
    "x = torch.arange(4*10*2).view(4, 10, 2)\n",
    "\n",
    "# View\n",
    "print('contiguous', x.is_contiguous())\n",
    "print('pull to 1D', x.view(-1))"
   ]
  },
  {
   "cell_type": "code",
   "execution_count": 232,
   "metadata": {},
   "outputs": [
    {
     "name": "stdout",
     "output_type": "stream",
     "text": [
      "contiguous False\n"
     ]
    }
   ],
   "source": [
    "y = x.permute(2, 0, 1) # permute dimensialities in tensor; 2, 0, 1 is a numbers of axis \n",
    "\n",
    "# Reshape\n",
    "print('contiguous', y.is_contiguous())\n",
    "# print('pull to 1D', y.view(-1)) # error"
   ]
  },
  {
   "attachments": {},
   "cell_type": "markdown",
   "metadata": {},
   "source": [
    "Reshape works always. It tries to make *view* operation, but if it's failed, it makes copy of data. So, when using reshape, data can be copied (data copy decreases performance)."
   ]
  },
  {
   "cell_type": "code",
   "execution_count": 48,
   "metadata": {},
   "outputs": [
    {
     "name": "stdout",
     "output_type": "stream",
     "text": [
      "reshape tensor([ 0,  2,  4,  6,  8, 10, 12, 14, 16, 18, 20, 22, 24, 26, 28, 30, 32, 34,\n",
      "        36, 38, 40, 42, 44, 46, 48, 50, 52, 54, 56, 58, 60, 62, 64, 66, 68, 70,\n",
      "        72, 74, 76, 78,  1,  3,  5,  7,  9, 11, 13, 15, 17, 19, 21, 23, 25, 27,\n",
      "        29, 31, 33, 35, 37, 39, 41, 43, 45, 47, 49, 51, 53, 55, 57, 59, 61, 63,\n",
      "        65, 67, 69, 71, 73, 75, 77, 79])\n",
      "make contiguous and reshape tensor([ 0,  2,  4,  6,  8, 10, 12, 14, 16, 18, 20, 22, 24, 26, 28, 30, 32, 34,\n",
      "        36, 38, 40, 42, 44, 46, 48, 50, 52, 54, 56, 58, 60, 62, 64, 66, 68, 70,\n",
      "        72, 74, 76, 78,  1,  3,  5,  7,  9, 11, 13, 15, 17, 19, 21, 23, 25, 27,\n",
      "        29, 31, 33, 35, 37, 39, 41, 43, 45, 47, 49, 51, 53, 55, 57, 59, 61, 63,\n",
      "        65, 67, 69, 71, 73, 75, 77, 79])\n"
     ]
    }
   ],
   "source": [
    "print('reshape', y.reshape(-1))\n",
    "print('make contiguous and reshape', y.contiguous().view(-1))"
   ]
  },
  {
   "attachments": {},
   "cell_type": "markdown",
   "metadata": {},
   "source": [
    "# Tensor: format\n",
    "\n",
    "In Pytorch tensors are stored in format [channel, height, width], in other systems [height, width, channel] is usually used."
   ]
  },
  {
   "cell_type": "code",
   "execution_count": 52,
   "metadata": {},
   "outputs": [
    {
     "data": {
      "text/plain": [
       "(tensor([[0, 1],\n",
       "         [2, 3],\n",
       "         [4, 5],\n",
       "         [6, 7]]),\n",
       " tensor([[0, 1, 2, 3],\n",
       "         [4, 5, 6, 7]]))"
      ]
     },
     "execution_count": 52,
     "metadata": {},
     "output_type": "execute_result"
    }
   ],
   "source": [
    "x = torch.arange(8)\n",
    "\n",
    "# tensor doensn't change because the was no assignment x = x.view()\n",
    "x.view(4, 2), x.view(2, -1)"
   ]
  },
  {
   "cell_type": "code",
   "execution_count": 61,
   "metadata": {},
   "outputs": [
    {
     "name": "stdout",
     "output_type": "stream",
     "text": [
      "tensor([[1, 2, 3, 4],\n",
      "        [5, 6, 7, 8]]) \n",
      "  1\n",
      " 2\n",
      " 3\n",
      " 4\n",
      " 5\n",
      " 6\n",
      " 7\n",
      " 8\n",
      "[torch.storage.TypedStorage(dtype=torch.int64, device=cpu) of size 8]\n",
      "(4, 1) (1, 4)\n"
     ]
    }
   ],
   "source": [
    "x = torch.tensor([[1, 2, 3, 4], [5, 6, 7, 8]])\n",
    "\n",
    "# how data is stored\n",
    "print (x, '\\n', x.storage())\n",
    "\n",
    "# how we should change index to move to the next element in row and in column\n",
    "print (x.stride(), x.t().stride())"
   ]
  },
  {
   "attachments": {},
   "cell_type": "markdown",
   "metadata": {},
   "source": [
    "# Transpose tensors"
   ]
  },
  {
   "cell_type": "code",
   "execution_count": 62,
   "metadata": {},
   "outputs": [
    {
     "data": {
      "text/plain": [
       "torch.Size([1, 4, 2, 3])"
      ]
     },
     "execution_count": 62,
     "metadata": {},
     "output_type": "execute_result"
    }
   ],
   "source": [
    "z = torch.rand(1, 2, 3, 4)\n",
    "z = z.permute(0, 3, 1, 2) # NxHxWxC -> NxCxHxW\n",
    "z.shape\n",
    "\n",
    "# another ways of transpose\n",
    "x.transpose(0, 1), x.t(), x.t_() # operation_ is an inplace operation, so .t() in not inplace operation and .t_() is inplace transpose\n",
    "\n",
    "# vectorization\n",
    "x.flatten() # another option is .view(-1)"
   ]
  },
  {
   "attachments": {},
   "cell_type": "markdown",
   "metadata": {},
   "source": [
    "# Tensor operations\n",
    "\n",
    "Similar to numpy, most operations are executed elementwise. Linear algebra operations are supported. Most of them are taken from Basic Linear Algebra Subprograms (BLAS) and Linear Algebra Package (LAPACK)."
   ]
  },
  {
   "cell_type": "code",
   "execution_count": 67,
   "metadata": {},
   "outputs": [
    {
     "name": "stdout",
     "output_type": "stream",
     "text": [
      "tensor([[3, 4],\n",
      "        [5, 6]]) \n",
      " tensor([[3, 4],\n",
      "        [5, 6]])\n"
     ]
    },
    {
     "data": {
      "text/plain": [
       "tensor([[3, 4],\n",
       "        [5, 6]])"
      ]
     },
     "execution_count": 67,
     "metadata": {},
     "output_type": "execute_result"
    }
   ],
   "source": [
    "x = torch.tensor([[1, 2], [3, 4]])\n",
    "y = torch.tensor([[2, 2], [2, 2]])\n",
    "\n",
    "print(x + y, '\\n', x.add(y))\n",
    "\n",
    "# inplace operation\n",
    "x.add_(y)\n",
    "x\n",
    "\n",
    "# other operations are similar to operations is python\n"
   ]
  },
  {
   "attachments": {},
   "cell_type": "markdown",
   "metadata": {},
   "source": [
    "# Matrix operations\n",
    "\n",
    "torch.matmul - simple matrix multiplication\n",
    "\n",
    "torch.mm - simple matrix multiplication but without broadcasting\n",
    "\n",
    "torch.bmm - matrix multiplication with batch support: (b×n×m)(b×m×p)=b×n×p"
   ]
  },
  {
   "cell_type": "code",
   "execution_count": 72,
   "metadata": {},
   "outputs": [
    {
     "data": {
      "text/plain": [
       "(tensor([[ 6,  6],\n",
       "         [14, 14]]),\n",
       " tensor([[ 6,  6],\n",
       "         [14, 14]]),\n",
       " tensor([[ 6,  6],\n",
       "         [14, 14]]),\n",
       " tensor([[ 6,  6],\n",
       "         [14, 14]]))"
      ]
     },
     "execution_count": 72,
     "metadata": {},
     "output_type": "execute_result"
    }
   ],
   "source": [
    "x = torch.tensor([[1, 2], [3, 4]])\n",
    "y = torch.tensor([[2, 2], [2, 2]])\n",
    "\n",
    "# matrix multiplication\n",
    "x @ y, x.mm(y), x.matmul(y), torch.matmul(x, y)"
   ]
  },
  {
   "attachments": {
    "image.png": {
     "image/png": "[encoded data removed]"
    }
   },
   "cell_type": "markdown",
   "metadata": {},
   "source": [
    "# Tensor broadcasting\n",
    "\n",
    "Broadcasting is an operation that makes tensors to be equal sizes (without making copies of the data).\n",
    "\n",
    "Two tensors are “broadcastable” if the following rules hold:\n",
    "\n",
    "    - Each tensor has at least one dimension.\n",
    "\n",
    "    - When iterating over the dimension sizes, starting at the trailing dimension, the dimension sizes must either be equal, one of them is 1, or one of them does not exist.\n",
    "\n",
    "\n",
    "Broadcasting example #1:\n",
    "\n",
    "![image.png](attachment:image.png)"
   ]
  },
  {
   "cell_type": "code",
   "execution_count": 118,
   "metadata": {},
   "outputs": [
    {
     "name": "stdout",
     "output_type": "stream",
     "text": [
      "tensor([[ 0,  1],\n",
      "        [ 2,  4],\n",
      "        [10, 10]]) torch.Size([3, 2])\n",
      "tensor([4, 5]) torch.Size([2])\n",
      "tensor([[-4, -4],\n",
      "        [-2, -1],\n",
      "        [ 6,  5]]) torch.Size([3, 2])\n"
     ]
    }
   ],
   "source": [
    "x = torch.tensor([[0, 1], [2, 4], [10, 10]])\n",
    "y = torch.tensor([4, 5])\n",
    "print (x, x.shape)\n",
    "print (y, y.shape)\n",
    "z = x - y\n",
    "print (z, z.shape)"
   ]
  },
  {
   "attachments": {},
   "cell_type": "markdown",
   "metadata": {},
   "source": [
    "Broadcasting example #2:\n"
   ]
  },
  {
   "cell_type": "code",
   "execution_count": 113,
   "metadata": {},
   "outputs": [
    {
     "name": "stdout",
     "output_type": "stream",
     "text": [
      "tensor([[1, 2]]) torch.Size([1, 2])\n",
      "tensor([[0],\n",
      "        [3]]) torch.Size([2, 1])\n",
      "tensor([[1, 2],\n",
      "        [4, 5]]) torch.Size([2, 2])\n"
     ]
    }
   ],
   "source": [
    "x = torch.tensor([[1, 2]])\n",
    "y = torch.tensor([[0], [3]])\n",
    "print (x, x.shape)\n",
    "print (y, y.shape)\n",
    "z = x + y\n",
    "print (z, z.shape)"
   ]
  },
  {
   "attachments": {},
   "cell_type": "markdown",
   "metadata": {},
   "source": [
    "# Scalar multiplication"
   ]
  },
  {
   "cell_type": "code",
   "execution_count": 83,
   "metadata": {},
   "outputs": [
    {
     "name": "stdout",
     "output_type": "stream",
     "text": [
      "tensor(5) tensor(5)\n",
      "tensor(20)\n"
     ]
    },
    {
     "data": {
      "text/plain": [
       "(tensor([ 5, 11]), tensor([ 5, 11]))"
      ]
     },
     "execution_count": 83,
     "metadata": {},
     "output_type": "execute_result"
    }
   ],
   "source": [
    "v = torch.tensor([1, 2])\n",
    "print(torch.dot(v, v), v.dot(v))\n",
    "\n",
    "# to make scalar multiplication of multidimensional tensors they should be flattened\n",
    "x = torch.tensor([[1, 2], [3, 4]])\n",
    "y = torch.tensor([[2, 2], [2, 2]])\n",
    "print(torch.dot(x.view(-1), y.view(-1)))\n",
    "\n",
    "# multiplication by vector\n",
    "torch.mv(x, v), x.mv(v)"
   ]
  },
  {
   "attachments": {},
   "cell_type": "markdown",
   "metadata": {},
   "source": [
    "# Logarithm operation"
   ]
  },
  {
   "cell_type": "code",
   "execution_count": 88,
   "metadata": {},
   "outputs": [
    {
     "data": {
      "text/plain": [
       "tensor([[0.0000, 0.6931],\n",
       "        [1.0986, 1.3863]])"
      ]
     },
     "execution_count": 88,
     "metadata": {},
     "output_type": "execute_result"
    }
   ],
   "source": [
    "x = torch.tensor([[1, 2], [3, 4]])\n",
    "x.log()"
   ]
  },
  {
   "attachments": {},
   "cell_type": "markdown",
   "metadata": {},
   "source": [
    "# Sum opeartion"
   ]
  },
  {
   "cell_type": "code",
   "execution_count": 91,
   "metadata": {},
   "outputs": [
    {
     "name": "stdout",
     "output_type": "stream",
     "text": [
      "tensor(10) tensor(10) 10 tensor([4, 6]) tensor([3, 7])\n"
     ]
    },
    {
     "data": {
      "text/plain": [
       "tensor([[3],\n",
       "        [7]])"
      ]
     },
     "execution_count": 91,
     "metadata": {},
     "output_type": "execute_result"
    }
   ],
   "source": [
    "x = torch.tensor([[1, 2], [3, 4]])\n",
    "\n",
    "print(torch.sum(x), x.sum(), x.sum().item(), x.sum(axis=0), x.sum(axis=1))\n",
    "\n",
    "# keepdim - preserve dimensions of tensor\n",
    "x.sum(axis=1, keepdim=True) "
   ]
  },
  {
   "attachments": {},
   "cell_type": "markdown",
   "metadata": {},
   "source": [
    "# Max operation"
   ]
  },
  {
   "cell_type": "code",
   "execution_count": 93,
   "metadata": {},
   "outputs": [
    {
     "data": {
      "text/plain": [
       "(tensor(4),\n",
       " tensor(4),\n",
       " 4,\n",
       " torch.return_types.max(\n",
       " values=tensor([3, 4]),\n",
       " indices=tensor([1, 1])),\n",
       " torch.return_types.max(\n",
       " values=tensor([2, 4]),\n",
       " indices=tensor([1, 1])))"
      ]
     },
     "execution_count": 93,
     "metadata": {},
     "output_type": "execute_result"
    }
   ],
   "source": [
    "# axis argument makes max function to return two tensors: values and indicies\n",
    "torch.max(x), x.max(), x.max().item(), x.max(axis=0), x.max(axis=1)"
   ]
  },
  {
   "attachments": {},
   "cell_type": "markdown",
   "metadata": {},
   "source": [
    "# Tensor statistics"
   ]
  },
  {
   "cell_type": "code",
   "execution_count": 112,
   "metadata": {},
   "outputs": [
    {
     "name": "stdout",
     "output_type": "stream",
     "text": [
      "torch.return_types.topk(\n",
      "values=tensor([4, 3]),\n",
      "indices=tensor([5, 3]))\n",
      "torch.return_types.kthvalue(\n",
      "values=tensor(1),\n",
      "indices=tensor(1))\n",
      "(tensor(1.3452), tensor(2.1429))\n",
      "(tensor(1.8095), tensor(2.1429))\n"
     ]
    }
   ],
   "source": [
    "x = torch.tensor([2,1,2,3,0,4,3])\n",
    "print(x.topk(k=2)) # top k values\n",
    "print(x.kthvalue(k=2)) # top kth value\n",
    "print(torch.std_mean(x * 1.0)) # std and mean\n",
    "print(torch.var_mean(x * 1.0)) # variance and mean"
   ]
  },
  {
   "attachments": {},
   "cell_type": "markdown",
   "metadata": {},
   "source": [
    "# Tensor translation to numpy\n",
    "\n",
    "It's important for tensor to be sent to CPU and detached from computation graph before translation to numpy"
   ]
  },
  {
   "cell_type": "code",
   "execution_count": 121,
   "metadata": {},
   "outputs": [
    {
     "name": "stdout",
     "output_type": "stream",
     "text": [
      "[[10  1]\n",
      " [ 2  4]\n",
      " [10 10]]\n",
      "[[10  1]\n",
      " [ 2  4]\n",
      " [10 10]]\n"
     ]
    }
   ],
   "source": [
    "# that's correct order of translation to numpy\n",
    "y = x.cpu().detach().numpy()\n",
    "print(y)\n",
    "# but even after after translation to numpy x and y are actually the same\n",
    "x[0, 0] = 10\n",
    "print(y)"
   ]
  },
  {
   "attachments": {},
   "cell_type": "markdown",
   "metadata": {},
   "source": [
    "# Tensor translation from numpy"
   ]
  },
  {
   "cell_type": "code",
   "execution_count": 123,
   "metadata": {},
   "outputs": [
    {
     "data": {
      "text/plain": [
       "tensor([[1., 1.],\n",
       "        [1., 1.]], dtype=torch.float64)"
      ]
     },
     "execution_count": 123,
     "metadata": {},
     "output_type": "execute_result"
    }
   ],
   "source": [
    "import numpy as np\n",
    "\n",
    "torch.from_numpy(np.ones((2, 2)))\n",
    "torch.tensor([[1., 1.],\n",
    "[1., 1.]], dtype=torch.float64)"
   ]
  },
  {
   "attachments": {},
   "cell_type": "markdown",
   "metadata": {},
   "source": [
    "# Tensor save and load"
   ]
  },
  {
   "cell_type": "code",
   "execution_count": 126,
   "metadata": {},
   "outputs": [
    {
     "data": {
      "text/plain": [
       "tensor([[10,  1],\n",
       "        [ 2,  4],\n",
       "        [10, 10]])"
      ]
     },
     "execution_count": 126,
     "metadata": {},
     "output_type": "execute_result"
    }
   ],
   "source": [
    "# save\n",
    "torch.save(x, 'x-file')\n",
    "\n",
    "# load\n",
    "x2 = torch.load(\"x-file\")\n",
    "x2"
   ]
  },
  {
   "attachments": {},
   "cell_type": "markdown",
   "metadata": {},
   "source": [
    "# Save and load as dict"
   ]
  },
  {
   "cell_type": "code",
   "execution_count": 128,
   "metadata": {},
   "outputs": [
    {
     "data": {
      "text/plain": [
       "{'x': tensor([[1, 2]]),\n",
       " 'y': tensor([[0],\n",
       "         [3]])}"
      ]
     },
     "execution_count": 128,
     "metadata": {},
     "output_type": "execute_result"
    }
   ],
   "source": [
    "x = torch.tensor([[1, 2]])\n",
    "y = torch.tensor([[0], [3]])\n",
    "\n",
    "mydict = {'x': x, 'y': y}\n",
    "torch.save(mydict, 'mydict')\n",
    "mydict2 = torch.load('mydict')\n",
    "mydict2"
   ]
  },
  {
   "attachments": {},
   "cell_type": "markdown",
   "metadata": {},
   "source": [
    "# Tensors on CPU and GPU/TPU\n",
    "\n",
    "Tensors and models can be on CPU or GPU, but tensors/models on CPU can't see/interact with tensors/models on GPU => the all must be located in one device. Moving of data to GPU is expensive operation, that's why it's performed not for every image but for the whole batch.\n",
    "\n",
    "These notations are equal to mark execution device as GPU:"
   ]
  },
  {
   "cell_type": "code",
   "execution_count": null,
   "metadata": {},
   "outputs": [],
   "source": [
    "device=\"cuda\"\n",
    "device=torch.device(\"cuda\")\n",
    "device=\"cuda:0\"\n",
    "device=torch.device(\"cuda:0\")"
   ]
  },
  {
   "attachments": {},
   "cell_type": "markdown",
   "metadata": {},
   "source": [
    "### Send tensor to CPU/GPU"
   ]
  },
  {
   "cell_type": "code",
   "execution_count": 139,
   "metadata": {},
   "outputs": [
    {
     "name": "stdout",
     "output_type": "stream",
     "text": [
      "False\n",
      "True\n"
     ]
    }
   ],
   "source": [
    "x = x.cuda() # send tensor x to GPU\n",
    "x = x.cpu() # send tensor x to CPU\n",
    "print(x.is_cuda) # check if tensor x is attached to GPU\n",
    "z = z.to(\"cuda\", torch.double) # send tensor z to GPU and translate it to type that you need\n",
    "print(z.is_cuda)"
   ]
  },
  {
   "attachments": {},
   "cell_type": "markdown",
   "metadata": {},
   "source": [
    "### The most popular command to find the device that is suitable for tensor/model processing"
   ]
  },
  {
   "cell_type": "code",
   "execution_count": 142,
   "metadata": {},
   "outputs": [
    {
     "data": {
      "text/plain": [
       "tensor([[0],\n",
       "        [3]], device='cuda:0')"
      ]
     },
     "execution_count": 142,
     "metadata": {},
     "output_type": "execute_result"
    }
   ],
   "source": [
    "# find available device\n",
    "device = torch.device(\"cuda:0\" if torch.cuda.is_available() else \"cpu\")\n",
    "# send tensor to this device\n",
    "y.to(device)"
   ]
  },
  {
   "attachments": {},
   "cell_type": "markdown",
   "metadata": {},
   "source": [
    "### GPU info"
   ]
  },
  {
   "cell_type": "code",
   "execution_count": 160,
   "metadata": {},
   "outputs": [
    {
     "name": "stdout",
     "output_type": "stream",
     "text": [
      "Using device: cuda:0\n",
      "\n",
      "NVIDIA GeForce GTX 1070\n",
      "Total memory: 7.9 GB\n",
      "Memory Usage:\n",
      "Allocated: 0.0 GB\n",
      "Cached: 0.0 GB\n"
     ]
    }
   ],
   "source": [
    "print('Using device:', device)\n",
    "print()\n",
    "if device.type == 'cuda':\n",
    "    print(torch.cuda.get_device_name(0))\n",
    "    print(f'Total memory: {round(torch.cuda.mem_get_info(0)[1]/1024**3, 1)} GB')\n",
    "    print('Memory Usage:')\n",
    "    print(f'Allocated: {round(torch.cuda.memory_allocated(0)/1024**3, 1)} GB')\n",
    "    print(f'Cached: {round(torch.cuda.memory_reserved(0)/1024**3, 1)} GB')"
   ]
  },
  {
   "attachments": {},
   "cell_type": "markdown",
   "metadata": {},
   "source": [
    "### GPU memory free"
   ]
  },
  {
   "cell_type": "code",
   "execution_count": 162,
   "metadata": {},
   "outputs": [],
   "source": [
    "import gc\n",
    "gc.collect() # Python thing\n",
    "\n",
    "with torch.no_grad(): # free GPU memory\n",
    "    torch.cuda.empty_cache()"
   ]
  },
  {
   "attachments": {},
   "cell_type": "markdown",
   "metadata": {},
   "source": [
    "# GPU advantage in tensor operations\n",
    "\n",
    "Create a huge tensor"
   ]
  },
  {
   "cell_type": "code",
   "execution_count": 174,
   "metadata": {},
   "outputs": [],
   "source": [
    "x = torch.randn(5000, 5000)"
   ]
  },
  {
   "attachments": {},
   "cell_type": "markdown",
   "metadata": {},
   "source": [
    "CPU"
   ]
  },
  {
   "cell_type": "code",
   "execution_count": 175,
   "metadata": {},
   "outputs": [
    {
     "name": "stdout",
     "output_type": "stream",
     "text": [
      "CPU times: user 2.28 s, sys: 44.1 ms, total: 2.33 s\n",
      "Wall time: 586 ms\n"
     ]
    }
   ],
   "source": [
    "%%time\n",
    "\n",
    "_ = torch.matmul(x, x)"
   ]
  },
  {
   "attachments": {},
   "cell_type": "markdown",
   "metadata": {},
   "source": [
    "CPU to GPU"
   ]
  },
  {
   "cell_type": "code",
   "execution_count": 178,
   "metadata": {},
   "outputs": [
    {
     "name": "stdout",
     "output_type": "stream",
     "text": [
      "CPU times: user 29 µs, sys: 0 ns, total: 29 µs\n",
      "Wall time: 32.9 µs\n"
     ]
    }
   ],
   "source": [
    "%%time\n",
    "\n",
    "x = x.to(\"cuda:0\")"
   ]
  },
  {
   "attachments": {},
   "cell_type": "markdown",
   "metadata": {},
   "source": [
    "GPU"
   ]
  },
  {
   "cell_type": "code",
   "execution_count": 177,
   "metadata": {},
   "outputs": [
    {
     "name": "stdout",
     "output_type": "stream",
     "text": [
      "CPU times: user 290 µs, sys: 8.14 ms, total: 8.43 ms\n",
      "Wall time: 7.69 ms\n"
     ]
    }
   ],
   "source": [
    "%%time\n",
    "\n",
    "_ = torch.matmul(x, x)"
   ]
  },
  {
   "attachments": {},
   "cell_type": "markdown",
   "metadata": {},
   "source": [
    "# Pytorch fix random seed"
   ]
  },
  {
   "cell_type": "code",
   "execution_count": 180,
   "metadata": {},
   "outputs": [],
   "source": [
    "def set_seed(seed):\n",
    "    np.random.seed(seed)\n",
    "    torch.manual_seed(seed)\n",
    "    if torch.cuda.is_available(): # для GPU отдельный seed\n",
    "        torch.cuda.manual_seed(seed)\n",
    "        torch.cuda.manual_seed_all(seed)\n",
    "\n",
    "set_seed(42)\n",
    "\n",
    "# some operation on GPU can be stochastic, if we want our results to be reproducable, we should make them deterministic\n",
    "torch.backends.cudnn.determinstic = True\n",
    "torch.backends.cudnn.benchmark = False"
   ]
  },
  {
   "attachments": {},
   "cell_type": "markdown",
   "metadata": {},
   "source": [
    "# Pytorch AutoGrad"
   ]
  },
  {
   "cell_type": "code",
   "execution_count": 194,
   "metadata": {},
   "outputs": [
    {
     "data": {
      "text/plain": [
       "tensor([-0.4161, -0.3795, -0.3421, -0.3043, -0.2660, -0.2272, -0.1881, -0.1487,\n",
       "        -0.1090, -0.0691, -0.0292,  0.0108,  0.0508,  0.0907,  0.1304,  0.1700,\n",
       "         0.2092,  0.2482,  0.2867,  0.3248,  0.3624,  0.3993,  0.4357,  0.4713,\n",
       "         0.5062,  0.5403,  0.5735,  0.6058,  0.6372,  0.6675,  0.6967,  0.7248,\n",
       "         0.7518,  0.7776,  0.8021,  0.8253,  0.8473,  0.8678,  0.8870,  0.9048,\n",
       "         0.9211,  0.9359,  0.9492,  0.9611,  0.9713,  0.9801,  0.9872,  0.9928,\n",
       "         0.9968,  0.9992,  1.0000,  0.9992,  0.9968,  0.9928,  0.9872,  0.9801,\n",
       "         0.9713,  0.9611,  0.9492,  0.9359,  0.9211,  0.9048,  0.8870,  0.8678,\n",
       "         0.8473,  0.8253,  0.8021,  0.7776,  0.7518,  0.7248,  0.6967,  0.6675,\n",
       "         0.6372,  0.6058,  0.5735,  0.5403,  0.5062,  0.4713,  0.4357,  0.3993,\n",
       "         0.3624,  0.3248,  0.2867,  0.2482,  0.2092,  0.1700,  0.1304,  0.0907,\n",
       "         0.0508,  0.0108, -0.0292, -0.0691, -0.1090, -0.1487, -0.1881, -0.2272,\n",
       "        -0.2660, -0.3043, -0.3421, -0.3795, -0.4161])"
      ]
     },
     "execution_count": 194,
     "metadata": {},
     "output_type": "execute_result"
    }
   ],
   "source": [
    "x = torch.linspace(-2, 2, 101, dtype=torch.float32, requires_grad=True) # another option to make tensor x differentiable is inplace function x.requires_grad_()\n",
    "\n",
    "y = torch.sin(x) * (torch.sin(x) ** 2 + torch.cos(x) **2) # forward pass\n",
    "y.sum().backward() # convert to number and make backward pass (gradient can be taken only from single number)\n",
    "g = x.grad # find derivative for every point of x\n",
    "g"
   ]
  },
  {
   "attachments": {},
   "cell_type": "markdown",
   "metadata": {},
   "source": [
    "Actually sin(x) * (sin(x) ** 2 + cos(x) **2) is a sin(x), so gradient of y should equal to cos(x), and yes, it is."
   ]
  },
  {
   "cell_type": "code",
   "execution_count": 198,
   "metadata": {},
   "outputs": [
    {
     "data": {
      "text/plain": [
       "tensor([-0.4161, -0.3795, -0.3421, -0.3043, -0.2660, -0.2272, -0.1881, -0.1487,\n",
       "        -0.1090, -0.0691, -0.0292,  0.0108,  0.0508,  0.0907,  0.1304,  0.1700,\n",
       "         0.2092,  0.2482,  0.2867,  0.3248,  0.3624,  0.3993,  0.4357,  0.4713,\n",
       "         0.5062,  0.5403,  0.5735,  0.6058,  0.6372,  0.6675,  0.6967,  0.7248,\n",
       "         0.7518,  0.7776,  0.8021,  0.8253,  0.8473,  0.8678,  0.8870,  0.9048,\n",
       "         0.9211,  0.9359,  0.9492,  0.9611,  0.9713,  0.9801,  0.9872,  0.9928,\n",
       "         0.9968,  0.9992,  1.0000,  0.9992,  0.9968,  0.9928,  0.9872,  0.9801,\n",
       "         0.9713,  0.9611,  0.9492,  0.9359,  0.9211,  0.9048,  0.8870,  0.8678,\n",
       "         0.8473,  0.8253,  0.8021,  0.7776,  0.7518,  0.7248,  0.6967,  0.6675,\n",
       "         0.6372,  0.6058,  0.5735,  0.5403,  0.5062,  0.4713,  0.4357,  0.3993,\n",
       "         0.3624,  0.3248,  0.2867,  0.2482,  0.2092,  0.1700,  0.1304,  0.0907,\n",
       "         0.0508,  0.0108, -0.0292, -0.0691, -0.1090, -0.1487, -0.1881, -0.2272,\n",
       "        -0.2660, -0.3043, -0.3421, -0.3795, -0.4161], grad_fn=<CosBackward0>)"
      ]
     },
     "execution_count": 198,
     "metadata": {},
     "output_type": "execute_result"
    }
   ],
   "source": [
    "torch.cos(x)"
   ]
  },
  {
   "attachments": {
    "image.png": {
     "image/png": "[encoded data removed]"
    }
   },
   "cell_type": "markdown",
   "metadata": {},
   "source": [
    "### AutoGrad for multiple tensors\n",
    "\n",
    "Computational graph of function below:\n",
    "\n",
    "![image.png](attachment:image.png)"
   ]
  },
  {
   "cell_type": "code",
   "execution_count": 204,
   "metadata": {},
   "outputs": [
    {
     "data": {
      "text/plain": [
       "(tensor([-1.]), tensor([2.]), tensor([-3.]))"
      ]
     },
     "execution_count": 204,
     "metadata": {},
     "output_type": "execute_result"
    }
   ],
   "source": [
    "x = torch.tensor([1.], requires_grad=True)\n",
    "y = torch.tensor([2.], requires_grad=True)\n",
    "z = torch.tensor([3.], requires_grad=True)\n",
    "\n",
    "f = (x + y) * (y - z)\n",
    "\n",
    "f.backward()\n",
    "x.grad, y.grad, z.grad"
   ]
  },
  {
   "attachments": {},
   "cell_type": "markdown",
   "metadata": {},
   "source": [
    "### What if don't need to calculate gradients?"
   ]
  },
  {
   "cell_type": "code",
   "execution_count": 206,
   "metadata": {},
   "outputs": [
    {
     "name": "stdout",
     "output_type": "stream",
     "text": [
      "True False\n",
      "False\n"
     ]
    }
   ],
   "source": [
    "f = (x + y) * (y - z)\n",
    "v = f.detach()\n",
    "print (f.requires_grad, v.requires_grad)\n",
    "\n",
    "# or when you need just forward pass and don't need to calculate gradients\n",
    "\n",
    "with torch.no_grad():\n",
    "    f = (x + y) * (y - z)\n",
    "print (f.requires_grad)"
   ]
  },
  {
   "attachments": {},
   "cell_type": "markdown",
   "metadata": {},
   "source": [
    "### What if we take gradient for function, one of elements of which doesn't require gradient caculation?"
   ]
  },
  {
   "cell_type": "code",
   "execution_count": 210,
   "metadata": {},
   "outputs": [
    {
     "name": "stdout",
     "output_type": "stream",
     "text": [
      "None\n",
      "tensor([1., 2., 3.])\n"
     ]
    }
   ],
   "source": [
    "x = torch.Tensor([1, 2, 3])\n",
    "w = torch.tensor([1., 1, 1], requires_grad=True)\n",
    "\n",
    "z = w @ x\n",
    "z.backward()\n",
    "print(x.grad, w.grad, sep='\\n') # x doesn't require gradient calculation -> will return None"
   ]
  },
  {
   "attachments": {},
   "cell_type": "markdown",
   "metadata": {},
   "source": [
    "If we repeat gradient calculation one more time, new gradient value will be added to the previous one:"
   ]
  },
  {
   "cell_type": "code",
   "execution_count": 211,
   "metadata": {},
   "outputs": [
    {
     "name": "stdout",
     "output_type": "stream",
     "text": [
      "None\n",
      "tensor([2., 4., 6.])\n"
     ]
    }
   ],
   "source": [
    "z = w @ x\n",
    "z.backward()\n",
    "print(x.grad, w.grad, sep='\\n') # gradient will"
   ]
  },
  {
   "attachments": {},
   "cell_type": "markdown",
   "metadata": {},
   "source": [
    "So we need to make gradient zero"
   ]
  },
  {
   "cell_type": "code",
   "execution_count": 212,
   "metadata": {},
   "outputs": [
    {
     "name": "stdout",
     "output_type": "stream",
     "text": [
      "None\n",
      "tensor([1., 2., 3.])\n"
     ]
    }
   ],
   "source": [
    "w.grad.data.zero_()\n",
    "\n",
    "z = w @ x\n",
    "z.backward()\n",
    "print(x.grad, w.grad, sep='\\n') # gradient will"
   ]
  },
  {
   "attachments": {},
   "cell_type": "markdown",
   "metadata": {},
   "source": [
    "# AutoGrad with detach\n",
    "\n",
    "No gradient after detaching"
   ]
  },
  {
   "cell_type": "code",
   "execution_count": 215,
   "metadata": {},
   "outputs": [
    {
     "name": "stdout",
     "output_type": "stream",
     "text": [
      "tensor([2.], requires_grad=True)\n",
      "tensor([2.])\n"
     ]
    }
   ],
   "source": [
    "x = torch.tensor([2.], requires_grad=True)\n",
    "print(x)\n",
    "print(x.detach())"
   ]
  },
  {
   "attachments": {},
   "cell_type": "markdown",
   "metadata": {},
   "source": [
    "Without y.detach_() gradient of function z should be 12 but with y.detach_() it's 4. It's because y isn't considered after detaching, and actually we calculate (2 * 2 * x)' = 4"
   ]
  },
  {
   "cell_type": "code",
   "execution_count": 216,
   "metadata": {},
   "outputs": [
    {
     "name": "stdout",
     "output_type": "stream",
     "text": [
      "tensor([4.])\n"
     ]
    }
   ],
   "source": [
    "x = torch.tensor([2.], requires_grad=True)\n",
    "y = x * x\n",
    "y.detach_() \n",
    "z = x * y\n",
    "# а тут не сработает\n",
    "z.backward()\n",
    "print(x.grad)"
   ]
  },
  {
   "attachments": {},
   "cell_type": "markdown",
   "metadata": {},
   "source": [
    "# Dynamic computation graph in cycle"
   ]
  },
  {
   "cell_type": "code",
   "execution_count": 223,
   "metadata": {},
   "outputs": [
    {
     "name": "stdout",
     "output_type": "stream",
     "text": [
      "tensor([[  1.,  16.],\n",
      "        [ 81., 256.]], grad_fn=<MulBackward0>) \n",
      " None\n",
      "tensor([[1., 2.],\n",
      "        [3., 4.]], requires_grad=True) \n",
      " tensor([[ 1.,  8.],\n",
      "        [27., 64.]])\n"
     ]
    },
    {
     "name": "stderr",
     "output_type": "stream",
     "text": [
      "/tmp/ipykernel_4931/2146655783.py:10: UserWarning: The .grad attribute of a Tensor that is not a leaf Tensor is being accessed. Its .grad attribute won't be populated during autograd.backward(). If you indeed want the .grad field to be populated for a non-leaf Tensor, use .retain_grad() on the non-leaf Tensor. If you access the non-leaf Tensor by mistake, make sure you access the leaf Tensor instead. See github.com/pytorch/pytorch/pull/30531 for more informations. (Triggered internally at aten/src/ATen/core/TensorBody.h:486.)\n",
      "  print(x, '\\n', x.grad) # because x now is inner vertex of computation graph, so gradient won't be shown\n"
     ]
    }
   ],
   "source": [
    "x = torch.tensor([[1, 2], [3, 4]], requires_grad=True, dtype=torch.float32)\n",
    "x0 = x # set x0 as head of computation graph\n",
    "\n",
    "for _ in range(2):\n",
    "    x = x * x\n",
    "\n",
    "z = x.mean() # sum(x) / 4\n",
    "z.backward()\n",
    "\n",
    "print(x, '\\n', x.grad) # because x now is inner vertex of computation graph, so gradient won't be shown\n",
    "print(x0, '\\n', x0.grad) # gradient will be here, this is a head of computation graph for now"
   ]
  },
  {
   "attachments": {},
   "cell_type": "markdown",
   "metadata": {},
   "source": [
    "# Masked gradient calculation"
   ]
  },
  {
   "cell_type": "code",
   "execution_count": 226,
   "metadata": {},
   "outputs": [
    {
     "name": "stdout",
     "output_type": "stream",
     "text": [
      "tensor([[0., 2., 0., 0.]])\n"
     ]
    },
    {
     "data": {
      "text/plain": [
       "tensor([[0., 0., 0., 0.]])"
      ]
     },
     "execution_count": 226,
     "metadata": {},
     "output_type": "execute_result"
    }
   ],
   "source": [
    "x = torch.tensor([[1., 2, 3, 4]], requires_grad=True)\n",
    "\n",
    "z = x ** 2 / 2\n",
    "loss = z.sum(dim=1)\n",
    "\n",
    "# use mask to calculate gradient for the second element\n",
    "z.backward(torch.FloatTensor([[0, 1, 0, 0]]), retain_graph=True)\n",
    "print(x.grad.data)\n",
    "x.grad.data.zero_()"
   ]
  },
  {
   "attachments": {},
   "cell_type": "markdown",
   "metadata": {},
   "source": [
    "# Two consequtive backward passes through graph"
   ]
  },
  {
   "cell_type": "code",
   "execution_count": 229,
   "metadata": {},
   "outputs": [],
   "source": [
    "a = torch.rand(1, 4, requires_grad=True)\n",
    "b = a**2\n",
    "c = b*2\n",
    "d = c.mean()\n",
    "e = c.sum()\n",
    "\n",
    "# if we do this\n",
    "# d.backward() # ok\n",
    "# but with that\n",
    "# e.backward() # error, because we try to do backward twice for the same graph\n",
    "\n",
    "# so if we want to do backward twice or more (e.g. for NN with two or more heads) for the same graph, we should use this\n",
    "d.backward(retain_graph=True) #\n",
    "e.backward(retain_graph=True) #"
   ]
  },
  {
   "attachments": {},
   "cell_type": "markdown",
   "metadata": {},
   "source": [
    "# Operations with NNs and data\n",
    "\n",
    "TensorDataset - fucntion for dataset representation\n",
    "\n",
    "DataLoader - function that helps to load data by batches\n",
    "\n",
    "Example"
   ]
  },
  {
   "cell_type": "code",
   "execution_count": 247,
   "metadata": {},
   "outputs": [
    {
     "name": "stdout",
     "output_type": "stream",
     "text": [
      "tensor([[3., 1.],\n",
      "        [0., 1.],\n",
      "        [5., 1.],\n",
      "        [4., 1.]])\n",
      "tensor([[ 9.],\n",
      "        [ 0.],\n",
      "        [25.],\n",
      "        [16.]])\n",
      "\n",
      "\n",
      "tensor([[7., 1.],\n",
      "        [6., 1.],\n",
      "        [9., 1.],\n",
      "        [2., 1.]])\n",
      "tensor([[49.],\n",
      "        [36.],\n",
      "        [81.],\n",
      "        [ 4.]])\n",
      "\n",
      "\n",
      "tensor([[8., 1.],\n",
      "        [1., 1.]])\n",
      "tensor([[64.],\n",
      "        [ 1.]])\n",
      "\n",
      "\n"
     ]
    }
   ],
   "source": [
    "from torch.utils.data import TensorDataset\n",
    "from torch.utils.data import DataLoader\n",
    "\n",
    "x = torch.from_numpy(np.vstack([np.arange(10, dtype='float32'), np.ones(10, dtype='float32')]).T)\n",
    "y = torch.from_numpy(np.arange(10, dtype='float32')[:, None] ** 2)\n",
    "\n",
    "train_ds = TensorDataset(x, y) # create tensor dataset\n",
    "train_dl = DataLoader(train_ds, batch_size=4, shuffle=True) # load data by batches with shuffling\n",
    "\n",
    "for xb, yb in train_dl:\n",
    "    print(xb)\n",
    "    print(yb)\n",
    "    print('\\n')"
   ]
  },
  {
   "attachments": {},
   "cell_type": "markdown",
   "metadata": {},
   "source": [
    "# train_test split"
   ]
  },
  {
   "cell_type": "code",
   "execution_count": 248,
   "metadata": {},
   "outputs": [],
   "source": [
    "ds = TensorDataset(x, y)\n",
    "train_size = int(0.8 * len(ds))\n",
    "test_size = len(ds) - train_size\n",
    "train_dataset, test_dataset = torch.utils.data.random_split(ds,[train_size, test_size])"
   ]
  },
  {
   "attachments": {},
   "cell_type": "markdown",
   "metadata": {},
   "source": [
    "# How to send lists to model"
   ]
  },
  {
   "cell_type": "code",
   "execution_count": 251,
   "metadata": {},
   "outputs": [],
   "source": [
    "import torch\n",
    "import numpy as np\n",
    "from torch.utils.data import TensorDataset, DataLoader\n",
    "\n",
    "my_x = np.array([np.array([[1.0,2],[3,4]]),np.array([[5.,6],[7,8]])]) # a list of numpy arrays\n",
    "my_y = np.array([np.array([4.]), np.array([2.])]) # another list of numpy arrays (targets)\n",
    "\n",
    "tensor_x = torch.Tensor(my_x) # transform to torch tensor\n",
    "tensor_y = torch.Tensor(my_y)\n",
    "\n",
    "my_dataset = TensorDataset(tensor_x, tensor_y) # create your datset\n",
    "my_dataloader = DataLoader(my_dataset) # create your dataloader"
   ]
  },
  {
   "attachments": {},
   "cell_type": "markdown",
   "metadata": {},
   "source": [
    "# Load data with augmentations\n",
    "\n",
    "- num_workers sets number of processes that load data. It's better to experiment with its value, it can increase performance.\n",
    "- if use GPU, pin_memory should be True\n",
    "- if need train dataset, set train=True, for test set train=False"
   ]
  },
  {
   "cell_type": "code",
   "execution_count": null,
   "metadata": {},
   "outputs": [],
   "source": [
    "from torchvision import datasets\n",
    "\n",
    "train_loader = torch.utils.data.DataLoader(datasets.MNIST('../data', train=True, download=True, \n",
    "                                                          transform=transforms.Compose([transforms.ColorJitter(brightness=(0.6, 1), contrast=(0.8, 1)), \n",
    "                                                                                        transforms.RandomRotation((-15, 15)), \n",
    "                                                                                        transforms.ToTensor(), # transform to tensor\n",
    "                                                                                        transforms.Normalize((0.1307,), (0.3081,)) # noramlize\n",
    "                                                                                        ])), batch_size=64, shuffle=True, num_workers=8, pin_memory=True)"
   ]
  },
  {
   "attachments": {},
   "cell_type": "markdown",
   "metadata": {},
   "source": [
    "# Can write your own transformation"
   ]
  },
  {
   "cell_type": "code",
   "execution_count": null,
   "metadata": {},
   "outputs": [],
   "source": [
    "class Noise():\n",
    "    '''Adds gaussian noise to a tensor.'''\n",
    "\n",
    "    def __init__(self, mean, stddev):\n",
    "        self.mean = mean\n",
    "        self.stddev = stddev\n",
    "\n",
    "    def __call__(self, tensor):\n",
    "        noise = torch.zeros_like(tensor).normal_(self.mean, self.stddev)\n",
    "        return tensor.add_(noise)\n",
    "\n",
    "    def __repr__(self):\n",
    "        repr = f\"{self.__class__.__name__}(mean={self.mean}, sttdev={self.stddev})\"\n",
    "        return repr"
   ]
  },
  {
   "attachments": {},
   "cell_type": "markdown",
   "metadata": {},
   "source": [
    "# Can write your own dataset"
   ]
  },
  {
   "cell_type": "code",
   "execution_count": null,
   "metadata": {},
   "outputs": [],
   "source": [
    "class CustomTextDataset(Dataset):\n",
    "    '''Simple Dataset initializes with X and y vectors'''\n",
    "\n",
    "    def __init__(self,X,y=None):\n",
    "        self.data = list(zip(X,y))\n",
    "        # Sort by length of first element in tuple\n",
    "        self.data = sorted(self.data, key=lambda x: len(x[0]))\n",
    "\n",
    "    def __len__(self):\n",
    "        return len(self.data)\n",
    "\n",
    "    def __getitem__(self, idx):\n",
    "        return self.data[idx]"
   ]
  },
  {
   "attachments": {},
   "cell_type": "markdown",
   "metadata": {},
   "source": [
    "# NN modules\n",
    "\n",
    "## Simple linear layer"
   ]
  },
  {
   "cell_type": "code",
   "execution_count": 2,
   "metadata": {},
   "outputs": [
    {
     "name": "stdout",
     "output_type": "stream",
     "text": [
      "Parameter containing:\n",
      "tensor([[-0.4414, -0.7028]], requires_grad=True)\n",
      "Parameter containing:\n",
      "tensor([-0.4403], requires_grad=True)\n"
     ]
    },
    {
     "data": {
      "text/plain": [
       "[Parameter containing:\n",
       " tensor([[-0.4414, -0.7028]], requires_grad=True),\n",
       " Parameter containing:\n",
       " tensor([-0.4403], requires_grad=True)]"
      ]
     },
     "execution_count": 2,
     "metadata": {},
     "output_type": "execute_result"
    }
   ],
   "source": [
    "from torch import nn\n",
    "\n",
    "model = nn.Linear(in_features=2, out_features=1, bias=True)\n",
    "\n",
    "print(model.weight)\n",
    "print(model.bias)\n",
    "\n",
    "list(model.parameters())"
   ]
  },
  {
   "attachments": {},
   "cell_type": "markdown",
   "metadata": {},
   "source": [
    "## How to combine modules?\n",
    "\n",
    "Use nn.Sequential"
   ]
  },
  {
   "cell_type": "code",
   "execution_count": 17,
   "metadata": {},
   "outputs": [
    {
     "name": "stdout",
     "output_type": "stream",
     "text": [
      "Sequential(\n",
      "  (0): Linear(in_features=10, out_features=5, bias=True)\n",
      "  (1): ReLU()\n",
      "  (2): Linear(in_features=5, out_features=2, bias=True)\n",
      ")\n",
      "Sequential(\n",
      "  (hidden_linear): Linear(in_features=10, out_features=5, bias=True)\n",
      "  (hidden_activation): ReLU()\n",
      "  (output): Linear(in_features=5, out_features=2, bias=True)\n",
      ")\n"
     ]
    },
    {
     "data": {
      "text/plain": [
       "tensor([[ 0.1688, -0.2381],\n",
       "        [ 0.2047, -0.4102],\n",
       "        [ 0.1931, -0.3198]], grad_fn=<AddmmBackward0>)"
      ]
     },
     "execution_count": 17,
     "metadata": {},
     "output_type": "execute_result"
    }
   ],
   "source": [
    "net = nn.Sequential(nn.Linear(10, 5), \n",
    "                    nn.ReLU(), \n",
    "                    nn.Linear(5, 2))\n",
    "\n",
    "print(net)\n",
    "\n",
    "# another option is use nn.Sequential and add names to layers for convinience\n",
    "import torch\n",
    "from collections import OrderedDict\n",
    "\n",
    "net1 = nn.Sequential(OrderedDict([('hidden_linear', nn.Linear(10, 5)), \n",
    "                                  ('hidden_activation', nn.ReLU()), \n",
    "                                  ('output', nn.Linear(5, 2))]))\n",
    "\n",
    "print(net1)\n",
    "\n",
    "# when call net, forward pass is automatically made\n",
    "X = torch.rand(3, 10)\n",
    "net(X)"
   ]
  },
  {
   "attachments": {},
   "cell_type": "markdown",
   "metadata": {},
   "source": [
    "# Simplest NN\n",
    "\n",
    "This net is equivalent to network above."
   ]
  },
  {
   "cell_type": "code",
   "execution_count": 12,
   "metadata": {},
   "outputs": [
    {
     "data": {
      "text/plain": [
       "MLP(\n",
       "  (hidden): Linear(in_features=10, out_features=5, bias=True)\n",
       "  (out): Linear(in_features=5, out_features=2, bias=True)\n",
       ")"
      ]
     },
     "execution_count": 12,
     "metadata": {},
     "output_type": "execute_result"
    }
   ],
   "source": [
    "import torch.nn.functional as F\n",
    "\n",
    "class MLP(nn.Module):\n",
    "    def __init__(self):\n",
    "        super().__init__() # super(MLP, self).__init__()\n",
    "        self.hidden = nn.Linear(10, 5) # Hidden layer\n",
    "        self.out = nn.Linear(5, 2) # Output layer\n",
    "\n",
    "    def forward(self, X):\n",
    "        # how to process data and get answer\n",
    "        return self.out(F.relu(self.hidden(X)))\n",
    "    \n",
    "net2 = MLP()\n",
    "net2"
   ]
  },
  {
   "attachments": {},
   "cell_type": "markdown",
   "metadata": {},
   "source": [
    "Another way to make the same NN (the most convinient IMHO)"
   ]
  },
  {
   "cell_type": "code",
   "execution_count": 10,
   "metadata": {},
   "outputs": [
    {
     "data": {
      "text/plain": [
       "NNN(\n",
       "  (layers): Sequential(\n",
       "    (lin1): Linear(in_features=10, out_features=5, bias=True)\n",
       "    (relu1): ReLU()\n",
       "    (lin2): Linear(in_features=5, out_features=2, bias=True)\n",
       "  )\n",
       ")"
      ]
     },
     "execution_count": 10,
     "metadata": {},
     "output_type": "execute_result"
    }
   ],
   "source": [
    "class NNN(torch.nn.Module):\n",
    "    def __init__(self):\n",
    "        super(NNN, self).__init__()\n",
    "        self.layers = torch.nn.Sequential()\n",
    "        self.layers.add_module('lin1', torch.nn.Linear(10, 5))\n",
    "        self.layers.add_module('relu1', torch.nn.ReLU())\n",
    "        self.layers.add_module('lin2', torch.nn.Linear(5, 2))\n",
    "    \n",
    "    def forward(self, input):\n",
    "        return self.layers(input)\n",
    "    \n",
    "net3 = NNN()\n",
    "net3"
   ]
  },
  {
   "attachments": {},
   "cell_type": "markdown",
   "metadata": {},
   "source": [
    "NN state dict: all weights and biases of NN"
   ]
  },
  {
   "cell_type": "code",
   "execution_count": 18,
   "metadata": {},
   "outputs": [
    {
     "data": {
      "text/plain": [
       "OrderedDict([('0.weight',\n",
       "              tensor([[-0.1911,  0.2196,  0.2522,  0.3102, -0.2442, -0.1451,  0.2961, -0.2840,\n",
       "                       -0.2914, -0.0485],\n",
       "                      [ 0.2618,  0.2414,  0.2594,  0.2020, -0.1978,  0.0225,  0.2891, -0.2244,\n",
       "                       -0.1278, -0.2556],\n",
       "                      [-0.0482, -0.0607, -0.0505,  0.2761,  0.2491,  0.1520,  0.2944, -0.1268,\n",
       "                       -0.0918,  0.2378],\n",
       "                      [ 0.3070,  0.0535,  0.2642,  0.1721, -0.0155,  0.1743, -0.2981,  0.2521,\n",
       "                        0.0455,  0.1207],\n",
       "                      [-0.1263,  0.2192, -0.1623, -0.1952, -0.1158,  0.2561, -0.1339, -0.0005,\n",
       "                        0.2026, -0.1038]])),\n",
       "             ('0.bias', tensor([-0.0799, -0.2861, -0.0133,  0.1203,  0.3039])),\n",
       "             ('2.weight',\n",
       "              tensor([[-0.1334, -0.1093,  0.1141,  0.2170,  0.4033],\n",
       "                      [-0.2159, -0.2462,  0.3076, -0.2202, -0.0919]])),\n",
       "             ('2.bias', tensor([-0.1220, -0.3152]))])"
      ]
     },
     "execution_count": 18,
     "metadata": {},
     "output_type": "execute_result"
    }
   ],
   "source": [
    "net.state_dict() # you need to save this if you want to save the state of your network"
   ]
  },
  {
   "attachments": {},
   "cell_type": "markdown",
   "metadata": {},
   "source": [
    "Get NN layer and its weight and bias by its name"
   ]
  },
  {
   "cell_type": "code",
   "execution_count": 44,
   "metadata": {},
   "outputs": [
    {
     "data": {
      "text/plain": [
       "(Linear(in_features=10, out_features=5, bias=True),\n",
       " tensor([[-0.2968,  0.0313, -0.0596,  0.0408, -0.2986,  0.3072, -0.0311, -0.0753,\n",
       "          -0.1666,  0.0546],\n",
       "         [ 0.2505,  0.1762, -0.0494,  0.2005,  0.1934, -0.1292,  0.2075,  0.0311,\n",
       "          -0.2695,  0.2217],\n",
       "         [ 0.0786,  0.1478,  0.2825, -0.2137,  0.2967, -0.0429,  0.0232,  0.0991,\n",
       "           0.0544, -0.1287],\n",
       "         [ 0.0130,  0.0638,  0.2388,  0.1399, -0.1401,  0.2362, -0.0849, -0.2627,\n",
       "           0.2974, -0.2348],\n",
       "         [ 0.2864,  0.0301, -0.0498, -0.2368, -0.2499, -0.2764, -0.0450,  0.0960,\n",
       "           0.1253, -0.1881]]),\n",
       " tensor([ 0.1848,  0.0709,  0.0012, -0.2681,  0.0787]))"
      ]
     },
     "execution_count": 44,
     "metadata": {},
     "output_type": "execute_result"
    }
   ],
   "source": [
    "net3.layers.lin1, net3.layers.lin1.weight.data, net3.layers.lin1.bias.data"
   ]
  },
  {
   "attachments": {},
   "cell_type": "markdown",
   "metadata": {},
   "source": [
    "Get NN layer gradient (None because net wasn't trained)"
   ]
  },
  {
   "cell_type": "code",
   "execution_count": 33,
   "metadata": {},
   "outputs": [
    {
     "data": {
      "text/plain": [
       "(None, None)"
      ]
     },
     "execution_count": 33,
     "metadata": {},
     "output_type": "execute_result"
    }
   ],
   "source": [
    "net3.layers.lin1.bias.grad, net3.layers.lin2.bias.grad"
   ]
  },
  {
   "attachments": {},
   "cell_type": "markdown",
   "metadata": {},
   "source": [
    "# Count number of NN parameters"
   ]
  },
  {
   "cell_type": "code",
   "execution_count": 45,
   "metadata": {},
   "outputs": [
    {
     "data": {
      "text/plain": [
       "(67, [50, 5, 10, 2])"
      ]
     },
     "execution_count": 45,
     "metadata": {},
     "output_type": "execute_result"
    }
   ],
   "source": [
    "numel_list = [p.numel() for p in net3.parameters() if p.requires_grad == True]\n",
    "sum(numel_list), numel_list"
   ]
  },
  {
   "attachments": {},
   "cell_type": "markdown",
   "metadata": {},
   "source": [
    "# NN parameters sharing\n",
    "\n",
    "Use the same module in multiple places of NN"
   ]
  },
  {
   "cell_type": "code",
   "execution_count": 46,
   "metadata": {},
   "outputs": [
    {
     "data": {
      "text/plain": [
       "NNN(\n",
       "  (layers): Sequential(\n",
       "    (lin1): Linear(in_features=4, out_features=8, bias=True)\n",
       "    (relu1): ReLU()\n",
       "    (shared1): Linear(in_features=8, out_features=8, bias=True)\n",
       "    (relu2): ReLU()\n",
       "    (shared2): Linear(in_features=8, out_features=8, bias=True)\n",
       "    (relu3): ReLU()\n",
       "    (lin2): Linear(in_features=8, out_features=1, bias=True)\n",
       "  )\n",
       ")"
      ]
     },
     "execution_count": 46,
     "metadata": {},
     "output_type": "execute_result"
    }
   ],
   "source": [
    "shared = nn.Linear(8, 8)\n",
    "\n",
    "class NNN(torch.nn.Module):\n",
    "    def __init__(self):\n",
    "        super(NNN, self).__init__()\n",
    "        self.layers = torch.nn.Sequential()\n",
    "        self.layers.add_module('lin1', torch.nn.Linear(4, 8))\n",
    "        self.layers.add_module('relu1', torch.nn.ReLU())\n",
    "        self.layers.add_module('shared1', shared)\n",
    "        self.layers.add_module('relu2', torch.nn.ReLU())\n",
    "        self.layers.add_module('shared2', shared)\n",
    "        self.layers.add_module('relu3', torch.nn.ReLU())\n",
    "        self.layers.add_module('lin2', torch.nn.Linear(8, 1))\n",
    "    \n",
    "    def forward(self, input):\n",
    "        return self.layers(input)\n",
    "    \n",
    "net4 = NNN()\n",
    "net4"
   ]
  },
  {
   "attachments": {},
   "cell_type": "markdown",
   "metadata": {},
   "source": [
    "# Creating of you own modules\n",
    "\n",
    "Inherit module from nn.Module and define methods __ init __ and forward"
   ]
  },
  {
   "cell_type": "code",
   "execution_count": 47,
   "metadata": {},
   "outputs": [],
   "source": [
    "# layer without hyperparameters that centers data during forward pass \n",
    "\n",
    "class CenteredLayer(nn.Module):\n",
    "    def __init__(self):\n",
    "        super().__init__()\n",
    "    \n",
    "    def forward(self, X):\n",
    "        return X - X.mean()"
   ]
  },
  {
   "attachments": {},
   "cell_type": "markdown",
   "metadata": {},
   "source": [
    "# Explicit declaring of NN weights and forward method "
   ]
  },
  {
   "cell_type": "code",
   "execution_count": 48,
   "metadata": {},
   "outputs": [],
   "source": [
    "class MyNetworkWithParams(nn.Module):\n",
    "    def __init__(self,input_size, hidden_size, output_size):\n",
    "        super(MyNetworkWithParams,self).__init__()\n",
    "        # it's important to declare weights and biases as nn.Parameter, net won't be able to train without it\n",
    "        self.layer1_weights = nn.Parameter(torch.randn(input_size, hidden_size))\n",
    "        self.layer1_bias = nn.Parameter(torch.randn(hidden_size))\n",
    "        self.layer2_weights = nn.Parameter(torch.randn(hidden_size, output_size))\n",
    "        self.layer2_bias = nn.Parameter(torch.randn(output_size))\n",
    "\n",
    "    def forward(self,x):\n",
    "        h1 = torch.matmul(x,self.layer1_weights) + self.layer1_bias\n",
    "        h1_act = torch.max(h1, torch.zeros(h1.size())) # ReLU\n",
    "        output = torch.matmul(h1_act,self.layer2_weights) + self.layer2_bias\n",
    "        return output"
   ]
  },
  {
   "attachments": {},
   "cell_type": "markdown",
   "metadata": {},
   "source": [
    "# List of layers"
   ]
  },
  {
   "cell_type": "code",
   "execution_count": 49,
   "metadata": {},
   "outputs": [],
   "source": [
    "# set list of layers for compactness and convinience\n",
    "class MyNet(nn.Module):\n",
    "    def __init__(self,n_hidden_layers):\n",
    "        super(MyNet, self).__init__()\n",
    "        self.n_hidden_layers = n_hidden_layers\n",
    "        self.final_layer = nn.Linear(128, 10)\n",
    "        self.act = nn.ReLU()\n",
    "        self.hidden = []\n",
    "        for i in range(n_hidden_layers):\n",
    "            self.hidden.append(nn.Linear(128, 128))\n",
    "        self.hidden = nn.ModuleList(self.hidden) # it's important to declare list as nn.ModuleList\n",
    "\n",
    "    def forward(self,x):\n",
    "        h = x\n",
    "        for i in range(self.n_hidden_layers):\n",
    "            h = self.hidden[i](h)\n",
    "            h = self.act(h)\n",
    "        out = self.final_layer(h)\n",
    "        return out"
   ]
  },
  {
   "attachments": {},
   "cell_type": "markdown",
   "metadata": {},
   "source": [
    "# Initialization\n",
    "\n",
    "Can be applied for every module separately"
   ]
  },
  {
   "cell_type": "code",
   "execution_count": 51,
   "metadata": {},
   "outputs": [
    {
     "name": "stdout",
     "output_type": "stream",
     "text": [
      "tensor([ 0.0143, -0.0036, -0.0283, -0.0010, -0.0108,  0.0001,  0.0034, -0.0160,\n",
      "        -0.0043,  0.0152]) tensor(0.)\n",
      "tensor([-0.0964, -0.3883, -0.0827, -0.1141,  0.4970, -0.2750,  0.4307, -0.0721,\n",
      "         0.2211, -0.2588]) tensor(0.0100)\n"
     ]
    }
   ],
   "source": [
    "def init_normal(m):\n",
    "    if type(m) == nn.Linear:\n",
    "        nn.init.normal_(m.weight, mean=0, std=0.01)\n",
    "        nn.init.zeros_(m.bias)\n",
    "\n",
    "\n",
    "def init_normal_v2(m):\n",
    "    if isinstance(m, nn.Linear):\n",
    "        torch.nn.init.xavier_uniform_(m.weight)\n",
    "        m.bias.data.fill_(0.01)\n",
    "\n",
    "net.apply(init_normal)\n",
    "print(net[0].weight.data[0], net[0].bias.data[0])\n",
    "\n",
    "net.apply(init_normal_v2)\n",
    "print(net[0].weight.data[0], net[0].bias.data[0])\n",
    "\n",
    "# if you wamt to copy weights of some tensor to weights of your layer as initialization - use function below\n",
    "def init_custom(m):\n",
    "    if type(m) == nn.Linear:\n",
    "        rw = torch.randn(m.weight.data.size())\n",
    "        m.weight.data.copy_(rw)"
   ]
  },
  {
   "attachments": {},
   "cell_type": "markdown",
   "metadata": {},
   "source": [
    "# How train net"
   ]
  },
  {
   "cell_type": "code",
   "execution_count": null,
   "metadata": {},
   "outputs": [],
   "source": [
    "def train_epoch(model, train_loader, criterion, optimizer):\n",
    "    model.train()\n",
    "    running_loss = 0.0\n",
    "    for batch_idx, (data, target) in enumerate(train_loader):\n",
    "        # set gradient to zero to prevent it accumulation\n",
    "        optimizer.zero_grad(set_to_none=True) # ~ model.zero_grad()\n",
    "        # move data and target to device\n",
    "        data = data.to(device)\n",
    "        target = target.to(device)\n",
    "        # get output of the model\n",
    "        outputs = model(data)\n",
    "        # calculate loss\n",
    "        loss = criterion(outputs, target)\n",
    "        running_loss += loss.item()\n",
    "        # calculate gradient\n",
    "        loss.backward() \n",
    "        # update weights according to gradient value\n",
    "        optimizer.step()\n",
    "    # return epoch loss\n",
    "    running_loss /= len(train_loader)\n",
    "    return running_loss"
   ]
  },
  {
   "attachments": {},
   "cell_type": "markdown",
   "metadata": {},
   "source": [
    "# Loss functions"
   ]
  },
  {
   "cell_type": "code",
   "execution_count": 29,
   "metadata": {},
   "outputs": [
    {
     "name": "stdout",
     "output_type": "stream",
     "text": [
      "tensor([[ 0.6684,  0.3911,  0.7770, -0.6086,  0.6816],\n",
      "        [ 0.2903,  0.1203, -0.6085, -0.3346, -0.0127],\n",
      "        [ 0.5905,  0.8817, -1.8756, -1.2629,  0.2401]], requires_grad=True) tensor([4, 0, 1]) tensor(1.1904, grad_fn=<NllLossBackward0>)\n"
     ]
    }
   ],
   "source": [
    "# CrossEntropyLoss = Softmax + CrossEntropy\n",
    "\n",
    "loss = nn.CrossEntropyLoss()\n",
    "a = torch.randn(3, 5, requires_grad=True) # 3 objects with 5 probabilities for each class\n",
    "y = torch.empty(3, dtype=torch.long).random_(5) # 3 targets with number of class\n",
    "print (a, y, loss(a, y))"
   ]
  },
  {
   "attachments": {},
   "cell_type": "markdown",
   "metadata": {},
   "source": [
    "# Custom loss function"
   ]
  },
  {
   "cell_type": "code",
   "execution_count": 32,
   "metadata": {},
   "outputs": [
    {
     "data": {
      "text/plain": [
       "tensor(-0.6179, grad_fn=<MeanBackward0>)"
      ]
     },
     "execution_count": 32,
     "metadata": {},
     "output_type": "execute_result"
    }
   ],
   "source": [
    "class CustomNLLLoss(nn.Module):\n",
    "    def __init__(self):\n",
    "        super().__init__()\n",
    "    \n",
    "    def forward(self, x, y):\n",
    "        # x should be output from LogSoftmax Layer\n",
    "        log_prob = -1.0 * x\n",
    "        # Get log_prob based on y class_index as loss=-mean(ylogp)\n",
    "        loss = log_prob.gather(1, y.unsqueeze(1))\n",
    "        loss = loss.mean()\n",
    "        return loss\n",
    "\n",
    "criterion = CustomNLLLoss() # nn.NLLLoss()\n",
    "CustomNLLLossClass = criterion(a, y)\n",
    "CustomNLLLossClass"
   ]
  },
  {
   "attachments": {},
   "cell_type": "markdown",
   "metadata": {},
   "source": [
    "# Custom learning rate for each layer"
   ]
  },
  {
   "cell_type": "code",
   "execution_count": 35,
   "metadata": {},
   "outputs": [],
   "source": [
    "from torch import optim\n",
    "optim.SGD([\n",
    "        {'params': model.features.parameters(), 'lr': 1e-1},\n",
    "        {'params': model.classifier.parameters(), 'lr': 1e-3}\n",
    "        ], lr=1e-2, momentum=0.9)"
   ]
  },
  {
   "attachments": {},
   "cell_type": "markdown",
   "metadata": {},
   "source": [
    "# Optimization Scheduler"
   ]
  },
  {
   "cell_type": "code",
   "execution_count": null,
   "metadata": {},
   "outputs": [],
   "source": [
    "from torch.optim.lr_scheduler import StepLR, ReduceLROnPlateau, CosineAnnealingLR\n",
    "\n",
    "# if scheduler depends on train/test loss - need to send parameters to optimizer when it's created\n",
    "optimizer = optim.SGD(net.parameters(), lr)\n",
    "\n",
    "# reduce LR on factor value when train/test loss decreases\n",
    "scheduler_1 = ReduceLROnPlateau(optimizer, factor=0.1, patience=1, threshold=0.1)\n",
    "\n",
    "# reduce LR every step_size steps by multiplying on gamma value\n",
    "scheduler_2 = StepLR(optimizer, step_size=1, gamma=0.1)\n",
    "\n",
    "# ....\n",
    "# we can use multiple schedulers on every step\n",
    "if not is_train:\n",
    "    scheduler_1.step(running_loss / (i + 1))\n",
    "    scheduler_2.step()"
   ]
  }
 ],
 "metadata": {
  "kernelspec": {
   "display_name": "Python 3",
   "language": "python",
   "name": "python3"
  },
  "language_info": {
   "codemirror_mode": {
    "name": "ipython",
    "version": 3
   },
   "file_extension": ".py",
   "mimetype": "text/x-python",
   "name": "python",
   "nbconvert_exporter": "python",
   "pygments_lexer": "ipython3",
   "version": "3.10.6"
  },
  "orig_nbformat": 4
 },
 "nbformat": 4,
 "nbformat_minor": 2
}
