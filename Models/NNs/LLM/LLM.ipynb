{
 "cells": [
  {
   "cell_type": "markdown",
   "metadata": {},
   "source": [
    "# LLM prompt hub\n",
    "\n",
    "https://smith.langchain.com/hub"
   ]
  },
  {
   "cell_type": "markdown",
   "metadata": {},
   "source": [
    "# Prompt guides\n",
    "\n",
    "- [OpenAI/ChatGPT course](https://learnprompting.org/courses/chatgpt-for-everyone)\n",
    "- [Anthropic/Claude course](https://docs.google.com/spreadsheets/d/19jzLgRruG9kjUQNKtCg1ZjdD6l6weA6qRXG5zLIAhC8/edit#gid=150872633)\n",
    "- [Google/Gemini guide + use cases](https://services.google.com/fh/files/misc/gemini-for-google-workspace-prompting-guide-101.pdf)"
   ]
  },
  {
   "cell_type": "markdown",
   "metadata": {},
   "source": [
    "# Prompt writing tips\n",
    "\n",
    "Prompt compontents:\n",
    "\n",
    "- Instruction (main objective or question)\n",
    "\n",
    "- Context (additional information that helps the model to solve the task)\n",
    "\n",
    "- Role (helps to control the behaviour of the model)\n",
    "\n",
    "- Formatting (how output should look like)\n",
    "\n",
    "- Examples (2-3 answers that model should give)"
   ]
  },
  {
   "cell_type": "markdown",
   "metadata": {},
   "source": [
    "\n",
    "Main tips:\n",
    "\n",
    "- Use natural language. Write as if you’re speaking to another person. Express complete thoughts in\n",
    "full sentences.\n",
    "\n",
    "- Be specific and iterate. Tell LLM what you need it to do (summarize, write, change the\n",
    "tone, create). Provide as much context as possible.\n",
    "\n",
    "- Be concise and avoid complexity. State your request in brief — but specific — language. Avoid jargon.\n",
    "\n",
    "- The most successful prompts average around 21 words.\n",
    "\n",
    "- Make it a conversation. Fine-tune your prompts if the results don’t meet your expectations or if you believe\n",
    "there’s room for improvement. Use follow-up prompts and an iterative process of review and refinement to\n",
    "yield better results.\n",
    "\n",
    "- Check your prompt for typos and grammatical errors. LLM is usually sensitive to them and can give incorrect results."
   ]
  },
  {
   "cell_type": "markdown",
   "metadata": {},
   "source": [
    "\n",
    "- Break it up. If you want LLM to perform several related tasks, break them into separate prompts.\n",
    "\n",
    "- Give constraints. To generate specific results, include details in your prompt such as character count limits\n",
    "or the number of options you’d like to generate.\n",
    "\n",
    "- Assign a role. To encourage creativity, assign a role. You can do this by starting your prompt with language\n",
    "like: “You are the head of a creative department for a leading advertising agency …”\n",
    "\n",
    "- Ask for feedback. In your conversation with LLM, tell it that you’re giving it a project,\n",
    "include all the details you have and everything you know, and then describe the output you want. Continue the\n",
    "conversation by asking questions like, “What questions do you have for me that would help you provide the\n",
    "best output?”\n",
    "\n",
    "- Consider tone. Tailor your prompts to suit your intended audience and desired tone of the content.\n",
    "Ask for a specific tone such as formal, informal, technical, creative, or casual in the output.\n",
    "\n",
    "- Say it another way. Fine-tune your prompts if the results don’t meet your expectations or if you believe\n",
    "there’s room for improvement. An iterative process of review and refinement often yields better results.\n",
    "\n",
    "- ChatGPT Plus subscribers can use Custom Instructions to give additional information to LLM and set its output format. \n",
    "For example you can give your name and job title to it and it will always sign the email letters correctly.\n",
    "\n",
    "- If you want LLM to work with part of text, enclose it in triple quotes ``` or with XML borders like <text_part> ... </text_part>, etc."
   ]
  },
  {
   "cell_type": "markdown",
   "metadata": {},
   "source": [
    "# 5 levels of text splitting\n",
    "\n",
    "Video\n",
    "\n",
    "https://www.youtube.com/watch?v=8OJC21T2SL4&t=1962s\n",
    "\n",
    "Notebook\n",
    "\n",
    "https://github.com/FullStackRetrieval-com/RetrievalTutorials/blob/main/tutorials/LevelsOfTextSplitting/5_Levels_Of_Text_Splitting.ipynb"
   ]
  }
 ],
 "metadata": {
  "kernelspec": {
   "display_name": "Python 3",
   "language": "python",
   "name": "python3"
  },
  "language_info": {
   "codemirror_mode": {
    "name": "ipython",
    "version": 3
   },
   "file_extension": ".py",
   "mimetype": "text/x-python",
   "name": "python",
   "nbconvert_exporter": "python",
   "pygments_lexer": "ipython3",
   "version": "3.10.12"
  }
 },
 "nbformat": 4,
 "nbformat_minor": 2
}
